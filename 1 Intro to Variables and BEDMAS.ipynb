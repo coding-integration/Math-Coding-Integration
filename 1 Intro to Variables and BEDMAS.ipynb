{
  "cells": [
    {
      "cell_type": "markdown",
      "metadata": {
        "id": "h3IPI_RD1A_D"
      },
      "source": [
        "# Introduction to Variables and BEDMAS in Python <img src=\"https://i.imgur.com/qUSxW7s.png\" height=45 width=45 align=right>\n",
        "\n",
        "## Learning Goals\n",
        "*   Use Python to define and use variables in simple mathematical expressions.\n",
        "*   Understand how Python may be used to simplify and evaluate more complex mathematical expressions. \n",
        "\n",
        "## Success Criteria\n",
        "<p>I know I am successful when:</p>\n",
        "<ul>\n",
        "<li>I can define and use Python variables in simple mathematical expressions</li>\n",
        "<li>I can test and evaluate mathematical expressions using Python</li>\n",
        "</ul>\n",
        "\n",
        "---\n",
        "# Activity 1: BEDMAS in Python <img src=\"https://i.imgur.com/qUSxW7s.png\" height=45 width=45 align=right>\n",
        "---\n",
        "\n",
        "## Big Question: Does Python Understand BEDMAS?\n",
        "\n",
        "Think about the following expression: \n",
        "\n",
        "$\\ {10 × (-1) + 4}$\n",
        "\n",
        "On a separate sheet of paper, use any strategy to **evaluate** this expression.\n",
        "\n",
        "Once you’ve found the correct answer, try running the following code block:"
      ]
    },
    {
      "cell_type": "code",
      "execution_count": null,
      "metadata": {
        "id": "MVLvG3jL1htd",
        "colab": {
          "base_uri": "https://localhost:8080/"
        },
        "outputId": "93131130-710c-404f-f71a-01cfe3c489e7"
      },
      "outputs": [
        {
          "output_type": "execute_result",
          "data": {
            "text/plain": [
              "-6"
            ]
          },
          "metadata": {},
          "execution_count": 20
        }
      ],
      "source": [
        "10 * (-1) + 4"
      ]
    },
    {
      "cell_type": "markdown",
      "metadata": {
        "id": "OIvGaDTN1SPG"
      },
      "source": [
        "**IMPORTANT NOTE:** In Python, we use an asterisk * in place of multiplication symbol ×\n",
        "\n",
        "Did Python give you the same answer that you calculated? If not, double check your work!\n",
        "\n",
        "Try evaluating this expression on your own:\n",
        "\n",
        "$\\ {5^2 + (-2) × 3}$\n",
        "\n",
        "Once you have verified the final answer, run the code block below. Verify that Python gives you the same answer you calculated:\n"
      ]
    },
    {
      "cell_type": "code",
      "execution_count": null,
      "metadata": {
        "id": "YXv-jG0t1osr",
        "colab": {
          "base_uri": "https://localhost:8080/"
        },
        "outputId": "3403ddf0-8066-4185-ceef-a20f7fc2882d"
      },
      "outputs": [
        {
          "output_type": "execute_result",
          "data": {
            "text/plain": [
              "19"
            ]
          },
          "metadata": {},
          "execution_count": 21
        }
      ],
      "source": [
        "5**2 + (-2) * 3"
      ]
    },
    {
      "cell_type": "markdown",
      "metadata": {
        "id": "ohsyB0t62A_s"
      },
      "source": [
        "**IMPORTANT NOTE:** In Python, we use a double asterisk ** to represent an exponent!\n",
        "\n",
        "# Based on the results above, does Python understand BEDMAS?\n",
        "\n",
        "\n",
        "**Python has some limitations.** For example, in math we can usually write 2(3) to represent 2 × 3. Try typing ``` 2(3) ``` in the code block below and running it:"
      ]
    },
    {
      "cell_type": "code",
      "execution_count": null,
      "metadata": {
        "id": "L3jpTQFm2SK7"
      },
      "outputs": [],
      "source": [
        "2(3) "
      ]
    },
    {
      "cell_type": "markdown",
      "metadata": {
        "id": "mpZi2WBl2VH-"
      },
      "source": [
        "You should get an error! **In Python, you must explicitly use the asterisk (*) to multiply numbers.**\n",
        "\n",
        "The following symbols are used to express basic arithmetic operations in Python:\n",
        "\n",
        "\n",
        "|Operator |  Description | Example  | \n",
        "|---------|--------------|----------|\n",
        "|   +     | **Addition**. Adds numbers or variables together. |5 + 2 (= 7) <br>x + y + z|\n",
        "|   -     |**Subtraction**. Subtracts numbers or variables together. |3 - 1 (= 2)<br>a - b |\n",
        "| \\*       | **Multiplication**. Multiplies numbers or variables together. |n* m * k<br>10 \\* 2 (= 20) |\n",
        "| /       | **Division**. Divides numbers or variables.|c / d <br>9 / 3 (= 3.0) |\n",
        "| \\*\\*     | **Exponent**. Gives the first number raised to the second number. |5 ** 2 (= 25) <br>x ** y |\n",
        "\n",
        "\n",
        "Try evaluating the following expressions on your own. Then verify your answers in the code block below by using the appropriate Python operators.\n",
        "\n",
        "### $\\ {-3 + 6 + (-9)}$\n",
        "### $\\ {9 × (3+(-2 × 3))}$\n",
        "### $\\ {-4 + (-9) ÷ (-1)}$\n",
        "\n",
        "## Type the expressions in the code boxes below. Run them one at a time."
      ]
    },
    {
      "cell_type": "code",
      "execution_count": null,
      "metadata": {
        "id": "xw1Q0epk2nP9",
        "colab": {
          "base_uri": "https://localhost:8080/"
        },
        "outputId": "61a4c106-f149-49ca-c9b5-68c368a3dd09"
      },
      "outputs": [
        {
          "output_type": "execute_result",
          "data": {
            "text/plain": [
              "-6"
            ]
          },
          "metadata": {},
          "execution_count": 23
        }
      ],
      "source": [
        "-3 + 6 + (-9)"
      ]
    },
    {
      "cell_type": "code",
      "execution_count": null,
      "metadata": {
        "id": "Kxa6JlwT2iE1",
        "colab": {
          "base_uri": "https://localhost:8080/"
        },
        "outputId": "d43e66ca-5924-4397-d070-78da9d13cbf2"
      },
      "outputs": [
        {
          "output_type": "execute_result",
          "data": {
            "text/plain": [
              "-27"
            ]
          },
          "metadata": {},
          "execution_count": 24
        }
      ],
      "source": [
        "9 * (3 + (-2*3))"
      ]
    },
    {
      "cell_type": "code",
      "execution_count": null,
      "metadata": {
        "id": "Uf1VFQGz2pUD",
        "colab": {
          "base_uri": "https://localhost:8080/"
        },
        "outputId": "1028fa13-36fa-44d3-ad49-48f936d86124"
      },
      "outputs": [
        {
          "output_type": "execute_result",
          "data": {
            "text/plain": [
              "5.0"
            ]
          },
          "metadata": {},
          "execution_count": 25
        }
      ],
      "source": [
        "-4 + (-9)/(-1)"
      ]
    },
    {
      "cell_type": "markdown",
      "metadata": {
        "id": "HG-XbjsV2pv7"
      },
      "source": [
        "---\n",
        "\n",
        "# Activity 2: Variables in Python - MTH1W <img src=\"https://i.imgur.com/qUSxW7s.png\" height=45 width=45 align=right>\n",
        "\n",
        "---\n",
        "\n",
        "# Big Question: How Do We Use Variables in Python?\n",
        "\n",
        "Defining a variable in Python is very similar to how you would define a variable in math. \n",
        "\n",
        "Try running the code block below:"
      ]
    },
    {
      "cell_type": "code",
      "execution_count": null,
      "metadata": {
        "id": "pXJ5plly24rw"
      },
      "outputs": [],
      "source": [
        "a = 5"
      ]
    },
    {
      "cell_type": "markdown",
      "metadata": {
        "id": "9rOugOpn25QT"
      },
      "source": [
        "**Nothing happened!** That’s okay, Python will remember that you have defined a variable called ``` a ``` and set it equal to 5.\n",
        "\n",
        "Let's define another variable, called ``` b ```, and set it equal to 2. Run the code block below:\n"
      ]
    },
    {
      "cell_type": "code",
      "execution_count": null,
      "metadata": {
        "id": "rjLTSmhk270Z"
      },
      "outputs": [],
      "source": [
        "b = 2"
      ]
    },
    {
      "cell_type": "markdown",
      "metadata": {
        "id": "ZzZ6Zbi92_XB"
      },
      "source": [
        "**In Python, variable names can be more descriptive than just letters like ```a, b, x ``` or ``` y ```.**\n",
        "<img src=\"https://www.nickzom.org/blog/wp-content/uploads/2018/12/rectangle.png\" height=150 width=300 align=right>\n",
        "\n",
        "Examine the given rectangle with side lengths ``` length = 9 cm ``` and ``` width = 4 cm```.\n",
        " \n",
        "What is the area of the rectangle? Write down the formula and remember to show your calculations.\n",
        "\n",
        "In the code block below, type the following:\n",
        "\n",
        "\n",
        "\n",
        "length = 9\n",
        "\n",
        "Press the Enter key, then type:\n",
        "\n",
        "width = 4\n",
        "\n",
        "#Define the length and width variables in the code block below.\n",
        "Don't forget to run the code!\n"
      ]
    },
    {
      "cell_type": "code",
      "execution_count": null,
      "metadata": {
        "id": "ZT-Ur2OG3DyF"
      },
      "outputs": [],
      "source": [
        "length = 9\n",
        "width = 4"
      ]
    },
    {
      "cell_type": "markdown",
      "metadata": {
        "id": "t_nzai0Z3D6k"
      },
      "source": [
        "We have just defined two variables, ```length``` and ```width```, and set them equal to 9 and 4 respectively. We can use these variables the same way as the previous example and multiply them together. \n",
        "#In the code block below, type the following.\n",
        "\n",
        "\n",
        "length * width\n",
        "\n",
        "\n",
        "Don't forget to run the code!\n",
        "\n"
      ]
    },
    {
      "cell_type": "code",
      "execution_count": null,
      "metadata": {
        "id": "zSxf_bQ-3IVj"
      },
      "outputs": [],
      "source": [
        "length * width"
      ]
    },
    {
      "cell_type": "markdown",
      "metadata": {
        "id": "3o-0U0zH3Ior"
      },
      "source": [
        "**Try the following:** Calculate the area of the following shapes by hand. Then use Python to define variables (name them appropriately) and verify these calculations. Use the empty code blocks below to define your variables and calculate the area of each shape. Don't forget to run the block to check your code!\n",
        "\n",
        "![try this.PNG](data:image/png;base64,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)\n",
        "\n",
        "## Enter your code below:"
      ]
    },
    {
      "cell_type": "code",
      "execution_count": null,
      "metadata": {
        "id": "jD-XoRnl3Lzd"
      },
      "outputs": [],
      "source": [
        "radius = 3\n",
        "\n",
        "3.14*radius**2"
      ]
    },
    {
      "cell_type": "markdown",
      "metadata": {
        "id": "U1LNjRoC3UY3"
      },
      "source": [
        "**Notice how you were able to redefine the variables each time**. For example, even though we had:\n",
        "\n",
        "``` length = 9 ```and ``` width = 4 ```\n",
        "\n",
        "\n",
        "defined previously, we were able to redefine the length and width variables to calculate the area of a different rectangle. \n",
        "\n",
        "--- \n",
        "# Challenge - More Complex BEDMAS\n",
        "\n",
        "We can use variables to help us evaluate more complex expressions. Using BEDMAS rules, calculate the following on your own. You may use a calculator, but it is very important to use brackets correctly for this question!\n",
        "\n",
        "## $\\frac{3 - (3 × (2+3))}{(-5)+3^2}$\n",
        "(Answer: -3)\n",
        "\n",
        "## Use Python to evaluate this expression: \n",
        "Define two variables called `numerator` and `denominator` in the code block below. Set the `numerator` variable equal to the numerator in this question. Make sure you are using proper Python operators! Make a new line by pressing the Enter key and do the same for the denominator. \n",
        "\n",
        "Make another new line, then type, \n",
        "``` \n",
        "numerator / denominator \n",
        "```"
      ]
    },
    {
      "cell_type": "code",
      "execution_count": null,
      "metadata": {
        "id": "J-LixPYr3cBB"
      },
      "outputs": [],
      "source": [
        "numerator = 3 - (3*(2+3))\n",
        "denominator = (-5)+3**2\n",
        "\n",
        "numerator / denominator"
      ]
    },
    {
      "cell_type": "markdown",
      "metadata": {
        "id": "KWGw9rym5x3u"
      },
      "source": [
        "Verify that running the above code block gives you -3.0, the correct answer.\n",
        "\n",
        "\n",
        "---\n",
        "\n",
        "\n",
        "# Consolidation Question: How can Python variables be used to help you evaluate math expressions?\n",
        "Your response should include at least 2 points."
      ]
    }
  ],
  "metadata": {
    "colab": {
      "collapsed_sections": [],
      "provenance": []
    },
    "kernelspec": {
      "display_name": "Python 3",
      "name": "python3"
    },
    "language_info": {
      "name": "python"
    }
  },
  "nbformat": 4,
  "nbformat_minor": 0
}