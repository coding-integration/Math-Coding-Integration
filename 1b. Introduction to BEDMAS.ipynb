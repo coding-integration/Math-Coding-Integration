{
  "nbformat": 4,
  "nbformat_minor": 0,
  "metadata": {
    "colab": {
      "provenance": [],
      "authorship_tag": "ABX9TyMypgodC/mVCL3oQbgvhlhx",
      "include_colab_link": true
    },
    "kernelspec": {
      "name": "python3",
      "display_name": "Python 3"
    },
    "language_info": {
      "name": "python"
    }
  },
  "cells": [
    {
      "cell_type": "markdown",
      "metadata": {
        "id": "view-in-github",
        "colab_type": "text"
      },
      "source": [
        "<a href=\"https://colab.research.google.com/github/coding-integration/1-Math-Coding-Integration/blob/main/1b.%20Introduction%20to%20BEDMAS.ipynb\" target=\"_parent\"><img src=\"https://colab.research.google.com/assets/colab-badge.svg\" alt=\"Open In Colab\"/></a>"
      ]
    },
    {
      "cell_type": "markdown",
      "source": [
        "# Introduction to Variables and BEDMAS in Python - Part 2 <img src=\"https://i.imgur.com/qUSxW7s.png\" height=45 width=45 align=right>\n",
        "\n",
        "## Learning Goals\n",
        "*   Use Python to define and use variables in simple mathematical expressions.\n",
        "*   Understand how Python may be used to simplify and evaluate more complex mathematical expressions. \n",
        "\n",
        "## Success Criteria\n",
        "<p>I know I am successful when:</p>\n",
        "<ul>\n",
        "<li>I can define and use Python variables in simple mathematical expressions</li>\n",
        "<li>I can test and evaluate mathematical expressions using Python</li>\n",
        "</ul>"
      ],
      "metadata": {
        "id": "ECS8voLWM3Z0"
      }
    },
    {
      "cell_type": "markdown",
      "source": [
        "---\n",
        "\n",
        "# Activity 2: Variables in Python - MTH1W <img src=\"https://i.imgur.com/qUSxW7s.png\" height=45 width=45 align=right>\n",
        "\n",
        "---\n",
        "\n",
        "# Big Question: How Do We Use Variables in Python?\n",
        "\n",
        "Defining a variable in Python is very similar to how you would define a variable in math. \n",
        "\n",
        "Try running the code block below:"
      ],
      "metadata": {
        "id": "llkm7_yjNMTz"
      }
    },
    {
      "cell_type": "code",
      "source": [
        "a = 5"
      ],
      "metadata": {
        "id": "c6D2p3O2NPXT"
      },
      "execution_count": null,
      "outputs": []
    },
    {
      "cell_type": "markdown",
      "source": [
        "**Nothing happened!** That’s okay, Python will remember that you have defined a variable called ``` a ``` and set it equal to 5.\n",
        "\n",
        "Let's define another variable, called ``` b ```, and set it equal to 2. Run the code block below:"
      ],
      "metadata": {
        "id": "UopxhRU3NPqh"
      }
    },
    {
      "cell_type": "code",
      "source": [
        "b = 2"
      ],
      "metadata": {
        "id": "2j7bCtCbNSvR"
      },
      "execution_count": null,
      "outputs": []
    },
    {
      "cell_type": "markdown",
      "source": [
        "**In Python, variable names can be more descriptive than just letters like ```a, b, x ``` or ``` y ```.**\n",
        "<img src=\"https://www.nickzom.org/blog/wp-content/uploads/2018/12/rectangle.png\" height=150 width=300 align=right>\n",
        "\n",
        "Examine the given rectangle with side lengths ``` length = 9 cm ``` and ``` width = 4 cm```.\n",
        " \n",
        "What is the area of the rectangle? Write down the formula and remember to show your calculations.\n",
        "\n",
        "In the code block below, type the following:\n",
        "\n",
        "\n",
        "\n",
        "length = 9\n",
        "\n",
        "Press the Enter key, then type:\n",
        "\n",
        "width = 4\n",
        "\n",
        "#Define the length and width variables in the code block below.\n",
        "Don't forget to run the code!"
      ],
      "metadata": {
        "id": "wbBY9fpYNUEg"
      }
    },
    {
      "cell_type": "code",
      "source": [
        "length = 9\n",
        "width = 4"
      ],
      "metadata": {
        "id": "7pLLRArRNVTq"
      },
      "execution_count": null,
      "outputs": []
    },
    {
      "cell_type": "markdown",
      "source": [
        "We have just defined two variables, ```length``` and ```width```, and set them equal to 9 and 4 respectively. We can use these variables the same way as the previous example and multiply them together. \n",
        "#In the code block below, type the following.\n",
        "\n",
        "\n",
        "length * width\n",
        "\n",
        "\n",
        "Don't forget to run the code!"
      ],
      "metadata": {
        "id": "QRgHSGgRNYD4"
      }
    },
    {
      "cell_type": "code",
      "source": [
        "length * width"
      ],
      "metadata": {
        "id": "xG4snPPJNayU"
      },
      "execution_count": null,
      "outputs": []
    },
    {
      "cell_type": "markdown",
      "source": [
        "**Try the following:** Calculate the area of the following shapes by hand. Then use Python to define variables (name them appropriately) and verify these calculations. Use the empty code blocks below to define your variables and calculate the area of each shape. Don't forget to run the block to check your code!\n",
        "\n",
        "<img src=\"https://i.imgur.com/BDOMdhp.png\" height=300 width=500>\n",
        "\n",
        "\n",
        "## Enter your code below:"
      ],
      "metadata": {
        "id": "zVxJv0cPNcng"
      }
    },
    {
      "cell_type": "code",
      "source": [],
      "metadata": {
        "id": "v-K1la6ZNeKt"
      },
      "execution_count": null,
      "outputs": []
    },
    {
      "cell_type": "markdown",
      "source": [
        "**Notice how you were able to redefine the variables each time**. For example, even though we had:\n",
        "\n",
        "``` length = 9 ```and ``` width = 4 ```\n",
        "\n",
        "\n",
        "defined previously, we were able to redefine the length and width variables to calculate the area of a different rectangle. \n",
        "\n",
        "--- \n",
        "# Challenge - More Complex BEDMAS\n",
        "\n",
        "We can use variables to help us evaluate more complex expressions. Using BEDMAS rules, calculate the following on your own. You may use a calculator, but it is very important to use brackets correctly for this question!\n",
        "\n",
        "\n",
        "(Answer: -3)\n",
        "\n",
        "## Use Python to evaluate this expression: \n",
        "Define two variables called `numerator` and `denominator` in the code block below. Set the `numerator` variable equal to the numerator in this question. Make sure you are using proper Python operators! Make a new line by pressing the Enter key and do the same for the denominator. \n",
        "\n",
        "Make another new line, then type, \n",
        "``` \n",
        "numerator / denominator \n",
        "```"
      ],
      "metadata": {
        "id": "bwb9uAncNjSb"
      }
    },
    {
      "cell_type": "code",
      "source": [],
      "metadata": {
        "id": "zhk_pKLnNlj5"
      },
      "execution_count": null,
      "outputs": []
    },
    {
      "cell_type": "markdown",
      "source": [
        "Verify that running the above code block gives you -3.0, the correct answer.\n",
        "\n",
        "\n",
        "---\n",
        "\n",
        "\n",
        "# Consolidation Question: How can Python variables be used to help you evaluate math expressions?\n",
        "Your response should include at least 2 points."
      ],
      "metadata": {
        "id": "ixQ25ZuZNsaJ"
      }
    }
  ]
}