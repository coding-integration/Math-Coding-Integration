{
  "cells": [
    {
      "cell_type": "markdown",
      "metadata": {
        "colab_type": "text",
        "id": "view-in-github"
      },
      "source": [
        "<a href=\"https://colab.research.google.com/github/coding-integration/1-Math-Coding-Integration/blob/main/1.%20Intro%20to%20Variables%20and%20BEDMAS%20MTH1W.ipynb\" target=\"_parent\"><img src=\"https://colab.research.google.com/assets/colab-badge.svg\" alt=\"Open In Colab\"/></a>\n",
        "\n",
        "\n",
        "<a href=\"https://hub.callysto.ca/jupyter/hub/user-redirect/git-pull?repo=https%3A%2F%2Fgithub.com%2Fcoding-integration%2F1-Math-Coding-Integration&branch=main&subPath=1.%20Intro%20to%20Variables%20and%20BEDMAS%20MTH1W.ipynb&depth=1\"  target=\"_parent\"><img src=\"https://raw.githubusercontent.com/callysto/curriculum-notebooks/master/open-in-callysto-button.svg?sanitize=true\" width=\"123\" height=\"24\" alt=\"Open in Callysto\"></a>"
      ]
    },
    {
      "cell_type": "markdown",
      "metadata": {
        "id": "Zg0Omz8_BUNa"
      },
      "source": [
        "#Activity 1: BEDMAS in Python  - MTH1W <img src=\"https://cdn.iconscout.com/icon/free/png-256/python-2752092-2284909.png\" height=45 width=45 align=right>\n",
        "---\n",
        "#Learning Goal\n",
        "Use Python to evaluate mathematical expressions.\n",
        "#Success Criteria\n",
        "<p>I know I am successful when:</p>\n",
        "<ul>\n",
        "<li>I can define and use Python variables in simple mathematical expressions</li>\n",
        "<li>I can test and evaluate mathematical expressions using Python</li>\n",
        "</ul>\n",
        "\n",
        "---\n",
        "#Big Question: Does Python Understand BEDMAS?\n",
        "\n",
        "Think about the following expression: \n",
        "\n",
        "$\\ {10 × (-1) + 4}$\n",
        "\n",
        "Use any strategy to **evaluate** this expression.\n",
        "\n",
        "Once you’ve found the correct answer, try running the following code block:\n",
        "\n",
        "\n",
        "\n",
        "\n",
        "\n",
        "\n",
        "\n",
        "\n"
      ]
    },
    {
      "cell_type": "code",
      "execution_count": null,
      "metadata": {
        "id": "3t7gz0qUFF7R"
      },
      "outputs": [],
      "source": [
        "10 * (-1) + 4"
      ]
    },
    {
      "cell_type": "markdown",
      "metadata": {
        "id": "sM_GuOBjFedh"
      },
      "source": [
        "**IMPORTANT NOTE:** In Python, we use an asterisk * in place of multiplication symbol ×\n",
        "\n",
        "Did Python give you the same answer that you calculated? If not, double check your work!\n",
        "\n",
        "Try evaluating this expression on your own:\n",
        "\n",
        "$\\ {5^2 + (-2) × 3}$\n",
        "\n",
        "Once you have verified the final answer, run the code block below. Verify that Python gives you the same answer you calculated:\n"
      ]
    },
    {
      "cell_type": "code",
      "execution_count": null,
      "metadata": {
        "id": "ILI-dYDwPPnK"
      },
      "outputs": [],
      "source": [
        "5**2 + (-2) * 3"
      ]
    },
    {
      "cell_type": "markdown",
      "metadata": {
        "id": "wJRtKO4aPSxI"
      },
      "source": [
        "**IMPORTANT NOTE:** In Python, we use a double asterisk ** to represent an exponent!"
      ]
    },
    {
      "cell_type": "markdown",
      "metadata": {
        "id": "SgHs7HgaPkHS"
      },
      "source": [
        "# Based on the results above, does Python appear to understand BEDMAS?\n",
        "\n"
      ]
    },
    {
      "cell_type": "markdown",
      "metadata": {
        "id": "btX6TeMVP5N_"
      },
      "source": [
        "**IMPORTANT NOTE: Python has some limitations.** For example, in math we can usually write 2(3) to represent 2 × 3. Try typing ``` 2(3) ``` in the code block below and running it:\n",
        "\n",
        " "
      ]
    },
    {
      "cell_type": "code",
      "execution_count": null,
      "metadata": {
        "id": "jCwW_BnHQKxu"
      },
      "outputs": [],
      "source": []
    },
    {
      "cell_type": "markdown",
      "metadata": {
        "id": "yRsXetSgQO2c"
      },
      "source": [
        "You should get an error! **In Python, you must explicitly use the asterisk (*) to multiply numbers.**\n",
        "\n",
        "The following symbols are used to express basic arithmetic operations in Python:\n",
        "\n",
        "\n",
        "|Operator |  Description | Example  | \n",
        "|---------|--------------|----------|\n",
        "|   +     | **Addition**. Adds numbers or variables together. |5 + 2 (= 7) <br>x + y + z|\n",
        "|   -     |**Subtraction**. Subtracts numbers or variables together. |3 - 1 (= 2)<br>a - b |\n",
        "| \\*       | **Multiplication**. Multiplies numbers or variables together. |n* m * k<br>10 \\* 2 (= 20) |\n",
        "| /       | **Division**. Divides numbers or variables.|c / d <br>9 / 3 (= 3.0) |\n",
        "| \\*\\*     | **Exponent**. Gives the first number raised to the second number. |5 ** 2 (= 25) <br>x ** y |"
      ]
    },
    {
      "cell_type": "markdown",
      "metadata": {
        "id": "2-c8TDh1SWZI"
      },
      "source": [
        "Try evaluating the following expressions on your own. Then verify your answers in the code block below by using the appropriate Python operators.\n",
        "\n",
        "### $\\ {-3 + 6 + (-9)}$\n",
        "### $\\ {9 × (3+(-2 × 3))}$\n",
        "### $\\ {-4 + (-9) ÷ (-1)}$"
      ]
    },
    {
      "cell_type": "code",
      "execution_count": null,
      "metadata": {
        "id": "rvOS0fdaTJ-E"
      },
      "outputs": [],
      "source": []
    }
  ],
  "metadata": {
    "colab": {
      "authorship_tag": "ABX9TyMRhoGIfvivFpIF1tSSxCqL",
      "collapsed_sections": [],
      "include_colab_link": true,
      "provenance": []
    },
    "kernelspec": {
      "display_name": "Python 3.10.6 64-bit",
      "language": "python",
      "name": "python3"
    },
    "language_info": {
      "name": "python",
      "version": "3.10.6"
    },
    "vscode": {
      "interpreter": {
        "hash": "475a401d5f8531da0d5ec3d32485cfac990b88381cdc99d4b948e204c9710bec"
      }
    }
  },
  "nbformat": 4,
  "nbformat_minor": 0
}
