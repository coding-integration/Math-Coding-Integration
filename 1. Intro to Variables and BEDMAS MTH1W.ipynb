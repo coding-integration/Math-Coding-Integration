{
  "nbformat": 4,
  "nbformat_minor": 0,
  "metadata": {
    "colab": {
      "provenance": [],
      "collapsed_sections": [],
      "authorship_tag": "ABX9TyMRhoGIfvivFpIF1tSSxCqL",
      "include_colab_link": true
    },
    "kernelspec": {
      "name": "python3",
      "display_name": "Python 3"
    },
    "language_info": {
      "name": "python"
    }
  },
  "cells": [
    {
      "cell_type": "markdown",
      "metadata": {
        "id": "view-in-github",
        "colab_type": "text"
      },
      "source": [
        "<a href=\"https://colab.research.google.com/github/coding-integration/1-Math-Coding-Integration/blob/main/1.%20Intro%20to%20Variables%20and%20BEDMAS%20MTH1W.ipynb\" target=\"_parent\"><img src=\"https://colab.research.google.com/assets/colab-badge.svg\" alt=\"Open In Colab\"/></a>"
      ]
    },
    {
      "cell_type": "markdown",
      "source": [
        "#Activity 1: BEDMAS in Python  - MTH1W <img src=\"https://cdn.iconscout.com/icon/free/png-256/python-2752092-2284909.png\" height=45 width=45 align=right>\n",
        "---\n",
        "#Learning Goal\n",
        "Use Python to evaluate mathematical expressions.\n",
        "#Success Criteria\n",
        "<p>I know I am successful when:</p>\n",
        "<ul>\n",
        "<li>I can define and use Python variables in simple mathematical expressions</li>\n",
        "<li>I can test and evaluate mathematical expressions using Python</li>\n",
        "</ul>\n",
        "\n",
        "---\n",
        "#Big Question: Does Python Understand BEDMAS?\n",
        "\n",
        "Think about the following expression: \n",
        "\n",
        "$\\ {10 × (-1) + 4}$\n",
        "\n",
        "Use any strategy to **evaluate** this expression.\n",
        "\n",
        "Once you’ve found the correct answer, try running the following code block:\n",
        "\n",
        "\n",
        "\n",
        "\n",
        "\n",
        "\n",
        "\n",
        "\n"
      ],
      "metadata": {
        "id": "Zg0Omz8_BUNa"
      }
    },
    {
      "cell_type": "code",
      "source": [
        "10 * (-1) + 4"
      ],
      "metadata": {
        "id": "3t7gz0qUFF7R"
      },
      "execution_count": null,
      "outputs": []
    },
    {
      "cell_type": "markdown",
      "source": [
        "**IMPORTANT NOTE:** In Python, we use an asterisk * in place of multiplication symbol ×\n",
        "\n",
        "Did Python give you the same answer that you calculated? If not, double check your work!\n",
        "\n",
        "Try evaluating this expression on your own:\n",
        "\n",
        "$\\ {5^2 + (-2) × 3}$\n",
        "\n",
        "Once you have verified the final answer, run the code block below. Verify that Python gives you the same answer you calculated:\n"
      ],
      "metadata": {
        "id": "sM_GuOBjFedh"
      }
    },
    {
      "cell_type": "code",
      "source": [
        "5**2 + (-2) * 3"
      ],
      "metadata": {
        "id": "ILI-dYDwPPnK"
      },
      "execution_count": null,
      "outputs": []
    },
    {
      "cell_type": "markdown",
      "source": [
        "**IMPORTANT NOTE:** In Python, we use a double asterisk ** to represent an exponent!"
      ],
      "metadata": {
        "id": "wJRtKO4aPSxI"
      }
    },
    {
      "cell_type": "markdown",
      "source": [
        "# Based on the results above, does Python appear to understand BEDMAS?\n",
        "\n"
      ],
      "metadata": {
        "id": "SgHs7HgaPkHS"
      }
    },
    {
      "cell_type": "markdown",
      "source": [
        "**IMPORTANT NOTE: Python has some limitations.** For example, in math we can usually write 2(3) to represent 2 × 3. Try typing ``` 2(3) ``` in the code block below and running it:\n",
        "\n",
        " "
      ],
      "metadata": {
        "id": "btX6TeMVP5N_"
      }
    },
    {
      "cell_type": "code",
      "source": [],
      "metadata": {
        "id": "jCwW_BnHQKxu"
      },
      "execution_count": null,
      "outputs": []
    },
    {
      "cell_type": "markdown",
      "source": [
        "You should get an error! **In Python, you must explicitly use the asterisk (*) to multiply numbers.**\n",
        "\n",
        "The following symbols are used to express basic arithmetic operations in Python:\n",
        "\n",
        "\n",
        "|Operator |  Description | Example  | \n",
        "|---------|--------------|----------|\n",
        "|   +     | **Addition**. Adds numbers or variables together. |5 + 2 (= 7) <br>x + y + z|\n",
        "|   -     |**Subtraction**. Subtracts numbers or variables together. |3 - 1 (= 2)<br>a - b |\n",
        "| \\*       | **Multiplication**. Multiplies numbers or variables together. |n* m * k<br>10 \\* 2 (= 20) |\n",
        "| /       | **Division**. Divides numbers or variables.|c / d <br>9 / 3 (= 3.0) |\n",
        "| \\*\\*     | **Exponent**. Gives the first number raised to the second number. |5 ** 2 (= 25) <br>x ** y |"
      ],
      "metadata": {
        "id": "yRsXetSgQO2c"
      }
    },
    {
      "cell_type": "markdown",
      "source": [
        "Try evaluating the following expressions on your own. Then verify your answers in the code block below by using the appropriate Python operators.\n",
        "\n",
        "### $\\ {-3 + 6 + (-9)}$\n",
        "### $\\ {9 × (3+(-2 × 3))}$\n",
        "### $\\ {-4 + (-9) ÷ (-1)}$"
      ],
      "metadata": {
        "id": "2-c8TDh1SWZI"
      }
    },
    {
      "cell_type": "code",
      "source": [],
      "metadata": {
        "id": "rvOS0fdaTJ-E"
      },
      "execution_count": null,
      "outputs": []
    }
  ]
}