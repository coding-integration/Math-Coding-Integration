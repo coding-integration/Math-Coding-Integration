{
  "nbformat": 4,
  "nbformat_minor": 0,
  "metadata": {
    "colab": {
      "provenance": [],
      "collapsed_sections": [
        "gFn_CmBKkAVr"
      ],
      "private_outputs": true,
      "authorship_tag": "ABX9TyMw0fWNtuKSHKbOhwo5UTuZ",
      "include_colab_link": true
    },
    "kernelspec": {
      "name": "python3",
      "display_name": "Python 3"
    },
    "language_info": {
      "name": "python"
    }
  },
  "cells": [
    {
      "cell_type": "markdown",
      "metadata": {
        "id": "view-in-github",
        "colab_type": "text"
      },
      "source": [
        "<a href=\"https://colab.research.google.com/github/coding-integration/1-Math-Coding-Integration/blob/main/2.%20Solving%20Algebraic%20Equations.ipynb\" target=\"_parent\"><img src=\"https://colab.research.google.com/assets/colab-badge.svg\" alt=\"Open In Colab\"/></a>",
        "\n\n",
        "<a href=\"https://hub.callysto.ca/jupyter/hub/user-redirect/git-pull?repo=https%3A%2F%2Fgithub.com%2Fcoding-integration%2F1-Math-Coding-Integration&branch=main&subPath=2.%20Solving%20Algebraic%20Equations.ipynb&depth=1\"  target=\"_parent\"><img src=\"https://raw.githubusercontent.com/callysto/curriculum-notebooks/master/open-in-callysto-button.svg?sanitize=true\" width=\"123\" height=\"24\" alt=\"Open in Callysto\"></a>"

      ]
    },
    {
      "cell_type": "markdown",
      "source": [
        "# Solving Algebraic Equations in Python<img src=\"https://cdn.iconscout.com/icon/free/png-256/python-2752092-2284909.png\" height=45 width=45 align=right>\n",
        "\n",
        "---\n",
        "# Learning Goals\n",
        "\n",
        "\n",
        "*   Define and use Python variables in simple and more complex mathematical equations\n",
        "*   Use Python to compare mathematical expressions and express inequalities\n",
        "\n",
        "# Success Criteria\n",
        "I know I am successful when:\n",
        "*   I can use basic decision structures to compare two expressions\n",
        "*   I can use Python to verify solutions to equations\n",
        "*   I can examine decision structures and predict their output\n",
        "\n",
        "---\n",
        "\n",
        "# Big Question: How Do We Use Python To Compare Mathematical Expressions?\n",
        "\n",
        "So far, we have been solving one and two-step equations. For example, on a separate sheet of paper, solve for the variable `x` in the following equation:\n",
        "\n",
        "### $\\ {2x + 1 = 3}$\n",
        "\n",
        "## How would you verify that your solution (x-value) is correct?\n",
        "\n",
        "With a Verify/Check (LS/RS) chart!\n",
        "\n",
        "|Left Side (LS)   |   Right Side (RS)  | Explanation |\n",
        "|-----|----|----------|\n",
        "|2x+1   |   3    | |\n",
        "|2**(1)**+1       |   3    |substitute the proposed solution x = 1|\n",
        "|**2**+1        |   3      |multiply 2 * 1  | \n",
        "| **3** | 3 | ✔ LS = RS |\n",
        "\n",
        "\n",
        "When you use a Verify/Check chart, you are separating the given equation into a **left side** and a **right side** then comparing each of these expressions to check for their equality, by substituting in your proposed solution. \n",
        "\n",
        "When you do this check, you are asking a question: **\"If I evaluate both sides of the equation, are they equal?\"**\n",
        "\n",
        "### We can use Python to help us answer this question.\n",
        "\n",
        "Consider the code block below. If you run the code block, it will display \"True\" - because it's **True** that 6 < 7 (6 is less than 7)."
      ],
      "metadata": {
        "id": "_4V7AuG7W-6x"
      }
    },
    {
      "cell_type": "code",
      "source": [
        "6 < 7"
      ],
      "metadata": {
        "id": "p5I5UwHugcSd"
      },
      "execution_count": null,
      "outputs": []
    },
    {
      "cell_type": "markdown",
      "source": [
        "What about the next code block?"
      ],
      "metadata": {
        "id": "SX4k6Q69gzXJ"
      }
    },
    {
      "cell_type": "code",
      "source": [
        "8 < 7"
      ],
      "metadata": {
        "id": "z99BE9Thg1Ms"
      },
      "execution_count": null,
      "outputs": []
    },
    {
      "cell_type": "markdown",
      "source": [
        "Running the above code block will give you False - because it is **False** to say that 8 < 7 (8 is less than 7)."
      ],
      "metadata": {
        "id": "b2StNbX9g3YI"
      }
    },
    {
      "cell_type": "markdown",
      "source": [
        "Examine the BEDMAS equation below:\n",
        "\n",
        "### $\\ {2^3 + 1 = 9}$\n",
        "\n",
        "Use BEDMAS rules to verify that the above equation is **True**. Then run the code block below:"
      ],
      "metadata": {
        "id": "n1yLi8KZhaJH"
      }
    },
    {
      "cell_type": "code",
      "source": [
        "2**3+1 == 9"
      ],
      "metadata": {
        "id": "Co47F0lHh9W8"
      },
      "execution_count": null,
      "outputs": []
    },
    {
      "cell_type": "markdown",
      "source": [
        "**IMPORTANT NOTE**: When checking for equality, Python uses double equal signs (==).\n",
        "\n",
        "\n",
        "---\n",
        "\n",
        "\n",
        "We could also separate the left side and right side of the equation into two variables. For example:\n"
      ],
      "metadata": {
        "id": "gEd0uVA7iAr2"
      }
    },
    {
      "cell_type": "code",
      "source": [
        "leftSide = 2**3+1\n",
        "rightSide = 9\n",
        "\n",
        "leftSide == rightSide"
      ],
      "metadata": {
        "id": "f4x_91_mixGH"
      },
      "execution_count": null,
      "outputs": []
    },
    {
      "cell_type": "markdown",
      "source": [
        "The code block above will also output **True**, because Python is comparing the values of each variable.\n",
        "\n",
        "**Try changing the value of `rightSide` to be `8` instead of `9`. Run the code again to see what happens.**\n",
        "\n",
        "\n",
        "---\n",
        "\n"
      ],
      "metadata": {
        "id": "GBsLZ667i3od"
      }
    },
    {
      "cell_type": "markdown",
      "source": [
        "## What happens if LS ≠ RS?\n",
        "\n",
        "Run the following code block a few times. Enter each expression for the left side then right side. \n",
        "\n",
        "### 1) Left Side: ${-3 + 6 + (-9)}$     Right Side:  ${-6}$\n",
        "### 2) Left Side: $ {(7 + (-4)) + (-3)}$ Right Side: ${7}$\n",
        "### 3) Left Side: $ {10}$                Right Side: ${-1 - (-9 + (-3))}$"
      ],
      "metadata": {
        "id": "NIK-eHFOq39G"
      }
    },
    {
      "cell_type": "code",
      "source": [
        "leftSide = eval(input(\"Type the expression for the left side, then press Enter: \"))\n",
        "rightSide = eval(input(\"Type the expression for the right side, then press Enter: \"))\n",
        "\n",
        "if leftSide == rightSide:\n",
        "  print(\"L.S. equals R.S.\")\n",
        "if leftSide != rightSide:\n",
        "  print(\"L.S. does not equal R.S.\")"
      ],
      "metadata": {
        "id": "_wHsDY39rZrI"
      },
      "execution_count": null,
      "outputs": []
    },
    {
      "cell_type": "markdown",
      "source": [
        "# Conditionals\n",
        "\n",
        "The code above uses something called **conditionals**, or **if-statements**. \n",
        "\n",
        "In the above examples, **if** the `leftSide` variable equals (==) the `rightSide` variable, then the code prints that out. **If** these variables are not equal (!=) then the code will print that out."
      ],
      "metadata": {
        "id": "1lsnvSlloXKA"
      }
    },
    {
      "cell_type": "markdown",
      "source": [
        "# Python Inequalities\n",
        "\n",
        "In math, we are able to express **inequalities**. We can also express inequalities in Python using slightly different symbols. The chart below shows a comparison:\n",
        "\n",
        "|Math Symbol |  Python Symbol | Description  | \n",
        "|---------|----------|----------|\n",
        "|   >     | >| Greater Than Symbol |\n",
        "|   <     | < |Less Than Symbol|\n",
        "| ≤        | <= | Less Than Or Equal To Symbol |\n",
        "| ≥       | >= | Greater Than Or Equal To Symbol |\n",
        "| =   | == | Equal To Symbol |"
      ],
      "metadata": {
        "id": "V1EofXs6LW2u"
      }
    },
    {
      "cell_type": "markdown",
      "source": [
        "# Challenge: More Complex Expressions\n",
        "\n",
        "Examine the code below. **What do you think is happening?**"
      ],
      "metadata": {
        "id": "95GP7MRrJUgW"
      }
    },
    {
      "cell_type": "code",
      "source": [
        "equation = input('Type the equation in the form ax+b=c, then press Enter: ')\n",
        "x = int(input(\"What value of x satisfies this equation? \"))\n",
        "\n",
        "leftSide = equation.split(\"=\")[0] #get the expression on the left side of the equal sign\n",
        "rightSide = int(equation.split(\"=\")[1]) #get the expression on the right side of the equal sign\n",
        "\n",
        "print(\"Left Side =\",leftSide)\n",
        "print(\"Right Side =\",rightSide)"
      ],
      "metadata": {
        "id": "T6S7ZQkFJfqe"
      },
      "execution_count": null,
      "outputs": []
    },
    {
      "cell_type": "markdown",
      "source": [
        "Enter your response here:"
      ],
      "metadata": {
        "id": "mW3nEyxmu5CS"
      }
    },
    {
      "cell_type": "markdown",
      "source": [
        "## Activity Task\n",
        "\n",
        "For this activity, you will be completing the code below to create an **equation checker**. The equation checker will be able to input any equation of the form $\\ {ax + b = c}$ and an $\\ {x}$-value to substitute into the equation. The code will automatically check if the $\\ {x}$-value solves the equation (left side and right side are equal).\n",
        "\n",
        "**Reminder**: The * (asterisk) must be used to multiply values!\n",
        "\n",
        "**Hint**: To complete the code, examine the code above that checks if two expressions are equal.\n",
        "\n"
      ],
      "metadata": {
        "id": "dWMb4meEikmE"
      }
    },
    {
      "cell_type": "code",
      "source": [
        "equation = input('Type the equation in the form a*x + b = c, then press Enter: ')\n",
        "x = int(input(\"What value of x satisfies this expression? \"))\n",
        "\n",
        "leftSide = eval(equation.split(\"=\")[0])\n",
        "rightSide = int(equation.split(\"=\")[1])"
      ],
      "metadata": {
        "id": "r-h-ylC_tX21"
      },
      "execution_count": null,
      "outputs": []
    },
    {
      "cell_type": "markdown",
      "source": [
        "Confirm that your code works by testing with the following equations:\n",
        "\n",
        "\n",
        "1.   $\\ {2x + 7 = 25}$ - ${x}$-value: 9\n",
        "2.   $\\ {\\frac{1}2x = -2}$ - $\\ {x}$-value: 1\n",
        "3.   $\\ {x^2 + 4 = 20}$ - $\\ {x}$-value: 5\n",
        "4.   $\\ {-3x^3 - 5 = -86}$ - $\\ {x}$-value: 4\n",
        "\n"
      ],
      "metadata": {
        "id": "rhYujXgcydjU"
      }
    },
    {
      "cell_type": "markdown",
      "source": [
        "### Challenge: Providing More Feedback\n",
        "For an additional challenge, provide more feedback when the left and right sides are not equal. Change your equation checker code to check if the left side is greater than the right side. If it is, print:\n",
        "```\n",
        "\"LS does not equal RS, LS is greater than RS\"\n",
        "```\n",
        "If the left side is less than the right side, provide more feedback by printing:\n",
        "```\n",
        "\"LS does not equal RS, LS is less than RS\"\n",
        "```\n",
        "If the left side and right side are equal, print:\n",
        "```\n",
        "\"LS equals RS\"\n",
        "```\n"
      ],
      "metadata": {
        "id": "DfOvVycE1K-z"
      }
    },
    {
      "cell_type": "markdown",
      "source": [
        "\n",
        "---\n",
        "\n",
        "# Calculating Total Cost\n",
        "\n",
        "*Shrey notices that laundry detergent is currently on sale. It is regularly priced at **$13.50** but the store is offering a **5%** discount. Calculate the **total cost** of the detergent, including tax.*\n",
        "\n",
        "## How can we represent this situation using Python?\n",
        "\n",
        "Try solving this question using pencil and paper first. Then run the code below to verify you got the correct answer!"
      ],
      "metadata": {
        "id": "0FkZXVf6vs-Y"
      }
    },
    {
      "cell_type": "code",
      "source": [
        "tax = 1.13\n",
        "discount = 0.05\n",
        "price = 13.50\n",
        "\n",
        "total = (price - (price * discount)) * tax\n",
        "\n",
        "print(round(total,2)) # print the total, rounded to 2 decimal places"
      ],
      "metadata": {
        "id": "2zwTGC7Q15Jj"
      },
      "execution_count": null,
      "outputs": []
    },
    {
      "cell_type": "markdown",
      "source": [
        "### Modeling More Complex Situations <img src=\"https://i.imgur.com/SsqFjhE.png\" height=70 width=160 align=right>\n",
        "\n",
        "*Shrey notices that the store has an additional deal - if they order the detergent online **more than 5 times**, the discount will increase from **5%** to **15%**...*\n",
        "\n",
        "\n",
        "---\n"
      ],
      "metadata": {
        "id": "aMSip3bP2ld_"
      }
    },
    {
      "cell_type": "code",
      "source": [
        "timesOrdered = int(input(\"How many times has the detergent been ordered?: \"))\n",
        "\n",
        "if timesOrdered <= 5:\n",
        "  discount = 0.05\n",
        "if timesOrdered > 5:\n",
        "  discount = 0.15\n",
        "\n",
        "total = (price - (price * discount)) * tax\n",
        "\n",
        "print(round(total,2)) # print the total, rounded to 2 decimal places"
      ],
      "metadata": {
        "id": "cG1IQ2Tk7Gih"
      },
      "execution_count": null,
      "outputs": []
    },
    {
      "cell_type": "markdown",
      "source": [
        "# Consolidation\n",
        "\n",
        "Python conditionals are useful for representing more dynamic and realistic situations. We have seen that conditionals can be used to help automate checking the solution to equations, but also to help represent different situations without modifying our calculations overall."
      ],
      "metadata": {
        "id": "6cr8HSE38USh"
      }
    }
  ]
}
