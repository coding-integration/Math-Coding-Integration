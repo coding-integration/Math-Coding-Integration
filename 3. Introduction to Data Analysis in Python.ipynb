{
  "nbformat": 4,
  "nbformat_minor": 0,
  "metadata": {
    "colab": {
      "provenance": [],
      "authorship_tag": "ABX9TyMY/g3zZ8MbNAt3uqzChTuX",
      "include_colab_link": true
    },
    "kernelspec": {
      "name": "python3",
      "display_name": "Python 3"
    },
    "language_info": {
      "name": "python"
    }
  },
  "cells": [
    {
      "cell_type": "markdown",
      "metadata": {
        "id": "view-in-github",
        "colab_type": "text"
      },
      "source": [
        "<a href=\"https://colab.research.google.com/github/coding-integration/Math-Coding-Integration/blob/main/3.%20Introduction%20to%20Data%20Analysis%20in%20Python.ipynb\" target=\"_parent\"><img src=\"https://colab.research.google.com/assets/colab-badge.svg\" alt=\"Open In Colab\"/></a>"
               "\n\n",
        "<a href=\"https://hub.callysto.ca/jupyter/hub/user-redirect/git-pull?repo=https%3A%2F%2Fgithub.com%2Fcoding-integration%2FMath-Coding-Integration&branch=main&subPath=3.%20Introduction%20to%20Data%20Analysis%20in%20Python.ipynb&depth=1\"  target=\"_parent\"><img src=\"https://raw.githubusercontent.com/callysto/curriculum-notebooks/master/open-in-callysto-button.svg?sanitize=true\" width=\"123\" height=\"24\" alt=\"Open in Callysto\"></a>"

      ]
    },
    {
      "cell_type": "markdown",
      "source": [
        "# Introduction to Data Analysis in Python <img src=\"https://i.imgur.com/qUSxW7s.png\" height=45 width=45 align=right>\n",
        "\n",
        "## Learning Goals\n",
        "- Use Python to investigate a dataset and conduct statistical analysis on one and two-variable data\n",
        "- Understand how Python may be used to perform data analysis\n",
        "\n",
        "## Success Criteria\n",
        "- I can use Python code to generate boxplots and scatter plots\n",
        "- I can use Python code to calculate the minimum, maximum, mean, median, and quartiles of a dataset \n",
        "- I can analyze the output of code to assess its statistical and mathematical meaning\n",
        "- I can modify the code to perform statistical analysis\n",
        "\n",
        "\n",
        "\n",
        "---"
      ],
      "metadata": {
        "id": "c-TZV7fp1KwL"
      }
    },
    {
      "cell_type": "markdown",
      "source": [
        "# Spreadsheets <img src=\"https://1000logos.net/wp-content/uploads/2017/03/McDonalds-logo.png\" height=115 width=200 align=right>\n",
        "\n",
        "For this activity, we will be working with some nutritional facts data for McDonald's breakfast foods. The data that we need is stored in a **spreadsheet**. A spreadsheet is a table with rows and columns that our data is organized into. \n",
        "\n",
        "<img src=\"https://i.imgur.com/NVwvbxS.png\" width=800>\n",
        "\n",
        "Our dataset consists of the breakfast food items served at McDonald's. The first column contains the names of the items. The other columns consist of some nutritional facts for each item - Serving Size, Calories, Total Fat, and Protein.\n",
        "\n",
        "Using Python, we will be able to process and analyze this data through graphs and calculating some basic statistics.\n",
        "\n",
        "\n",
        "\n",
        "---\n",
        "\n"
      ],
      "metadata": {
        "id": "v-lVXq_c0YV0"
      }
    },
    {
      "cell_type": "markdown",
      "source": [
        "## Mean and Median\n",
        "\n",
        "The mean of a set of numbers is the \"average\" - **what is the process for calcuating the mean?**\n",
        "\n",
        "The median of a set of numbers is the \"middle\" value - **what is the process for calculating the median?**"
      ],
      "metadata": {
        "id": "DTXWan4_yWH0"
      }
    },
    {
      "cell_type": "markdown",
      "source": [
        "Double click **here** to enter your responses.\n"
      ],
      "metadata": {
        "id": "WDfEvGMS2Kz0"
      }
    },
    {
      "cell_type": "markdown",
      "source": [
        "Run the code block below. ```import pandas as pd ``` and ``` import numpy as np``` are Python commands that will import some code to help us perform some **data analysis** on our dataset. Data analysis can include finding basic statistics of data such as the mean and median, as well as creating graphs and charts to represent our data."
      ],
      "metadata": {
        "id": "NsyP-IjQ2JR1"
      }
    },
    {
      "cell_type": "code",
      "execution_count": 2,
      "metadata": {
        "id": "gJ-OJ6yp08wF"
      },
      "outputs": [],
      "source": [
        "import pandas as pd\n",
        "import numpy as np"
      ]
    },
    {
      "cell_type": "markdown",
      "source": [
        "We will find the mean and median number of calories among McDonald's breakfast foods. Run the code below to find these values:"
      ],
      "metadata": {
        "id": "eHf8TcqD5SB_"
      }
    },
    {
      "cell_type": "code",
      "source": [
        "data = pd.read_csv('mcdonalds_breakfast_items.csv').dropna() # make Python open our dataset\n",
        "mean = data[\"Calories\"].mean() #calculate the mean of the \"Calories\" column\n",
        "median = data[\"Calories\"].median() #calculate the median of the \"Calories\" column\n",
        "\n",
        "print(\"The mean number of calories is\", mean)\n",
        "print(\"The median number of calories is\", median)"
      ],
      "metadata": {
        "colab": {
          "base_uri": "https://localhost:8080/"
        },
        "id": "yIlgvvbY5g9w",
        "outputId": "0af020d7-b14b-4f43-ab4f-6b3af3a02274"
      },
      "execution_count": 3,
      "outputs": [
        {
          "output_type": "stream",
          "name": "stdout",
          "text": [
            "The mean number of calories is 526.6666666666666\n",
            "The median number of calories is 470.0\n"
          ]
        }
      ]
    },
    {
      "cell_type": "markdown",
      "source": [
        "---\n",
        "<img src=\"https://www.eatthis.com/wp-content/uploads/sites/4/2019/08/best-worst-mcdonalds.jpg?quality=82&strip=1\" height=200 width=250 align=right>\n",
        "\n",
        "# Boxplots\n",
        "\n",
        "One of the ways that we can visualize the distribution of data is with a boxplot (also known as a box-and-whisker plot). The box plot will show the minimum and maximum values as well as the quartiles of the data. But first, we will calculate these values using Python.\n",
        "\n",
        "Run the code below to find the minimum and maximum (lowest and highest) amount of calories among all McDonald's breakfast food items.\n",
        "\n"
      ],
      "metadata": {
        "id": "9wIUHwLT7259"
      }
    },
    {
      "cell_type": "code",
      "source": [
        "minimum = data[\"Calories\"].min()\n",
        "\n",
        "# use the minimum value to find out what item has the fewest calories\n",
        "minItem = data.loc[data[\"Calories\"] == minimum][\"Item\"].values[0]\n",
        "\n",
        "maximum = data[\"Calories\"].max()\n",
        "\n",
        "# use the maximum value to find out what item has the most calories\n",
        "maxItem = data.loc[data[\"Calories\"] == maximum][\"Item\"].values[0]\n",
        "\n",
        "print(\"The item with the fewest calories is\",minItem,\"at\",minimum,\"calories\")\n",
        "print(\"The item with the highest calories is\",maxItem,\"at\",maximum,\"calories\")"
      ],
      "metadata": {
        "colab": {
          "base_uri": "https://localhost:8080/"
        },
        "id": "fSHTPxUM86yB",
        "outputId": "7e6b1f68-4445-4c07-d21e-b7000afcfa5b"
      },
      "execution_count": null,
      "outputs": [
        {
          "output_type": "stream",
          "name": "stdout",
          "text": [
            "The item with the fewest calories is Hash Brown at 150.0 calories\n",
            "The item with the highest calories is Big Breakfast with Hotcakes (Large Biscuit) a 1150.0 calories\n"
          ]
        }
      ]
    },
    {
      "cell_type": "markdown",
      "source": [
        "## Quartiles\n",
        "\n",
        "Recall: **Quartiles** divide the data into 4 parts, each containing 25% of the data. To divide the data, we must arrange the data in order and calculate 3 values (Q1, Q2, and Q3). Calculating these values will tell us more about the data.\n",
        "\n",
        "Run the code below to calculate the quartiles Q1, Q2, and Q3."
      ],
      "metadata": {
        "id": "j3C-N7VABJWe"
      }
    },
    {
      "cell_type": "code",
      "source": [
        "Q1 = data[\"Calories\"].quantile(0.25)\n",
        "Q2 = data[\"Calories\"].quantile(0.5)\n",
        "Q3 = data[\"Calories\"].quantile(0.75)\n",
        "\n",
        "print(\"Q1:\",Q1)\n",
        "print(\"Q2:\",Q2)\n",
        "print(\"Q3:\",Q3)"
      ],
      "metadata": {
        "colab": {
          "base_uri": "https://localhost:8080/"
        },
        "id": "LbtKxv0pBGmE",
        "outputId": "75e1cbed-d2fc-498c-bc1a-47ff2cedee6c"
      },
      "execution_count": 14,
      "outputs": [
        {
          "output_type": "stream",
          "name": "stdout",
          "text": [
            "Q1: 410.0\n",
            "Q2: 470.0\n",
            "Q3: 570.0\n"
          ]
        }
      ]
    },
    {
      "cell_type": "markdown",
      "source": [
        "### Respond to these questions:\n",
        "1. What do the Q1 and Q3 values tell us? \n",
        "2. What is another name for Q2?\n",
        "\n"
      ],
      "metadata": {
        "id": "_cqFaLDaDZT9"
      }
    },
    {
      "cell_type": "markdown",
      "source": [
        "Double click **here** to enter your responses.\n"
      ],
      "metadata": {
        "id": "TWdEUumbDqiR"
      }
    },
    {
      "cell_type": "markdown",
      "source": [
        "## Generating a Boxplot\n",
        "\n",
        "Now that we have calculated the values we need to create a boxplot, using Python we will generate a boxplot graph. Run the code block below to generate the boxplot."
      ],
      "metadata": {
        "id": "wHp9fEVID_TS"
      }
    },
    {
      "cell_type": "code",
      "source": [
        "boxplot = data.boxplot(column=[\"Calories\"], whis=[0,100])"
      ],
      "metadata": {
        "colab": {
          "base_uri": "https://localhost:8080/",
          "height": 269
        },
        "id": "lTwK0CN3EW5n",
        "outputId": "a54460ef-98d0-4e14-d821-df5af83e5e9b"
      },
      "execution_count": 15,
      "outputs": [
        {
          "output_type": "display_data",
          "data": {
            "text/plain": [
              "<Figure size 432x288 with 1 Axes>"
            ],
            "image/png": "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\n"
          },
          "metadata": {
            "needs_background": "light"
          }
        }
      ]
    },
    {
      "cell_type": "markdown",
      "source": [
        "#### What can this boxplot tell us about the distribution of calories?\n"
      ],
      "metadata": {
        "id": "fFcB5t12HhnU"
      }
    },
    {
      "cell_type": "markdown",
      "source": [
        "Double click **here** to enter your responses."
      ],
      "metadata": {
        "id": "K9mzNqhAHsP1"
      }
    },
    {
      "cell_type": "markdown",
      "source": [
        "\n",
        "\n",
        "---\n",
        "\n",
        "\n",
        "# Analyzing Correlation Between Two Variables\n",
        "\n",
        "We will create a scatter plot using two variables in our dataset: **calories** and **total fat**.\n",
        "\n",
        "## Hypothesis\n",
        "\n",
        "1. What type of correlation will exist between the amount of calories and total fat? Justify your reasoning.\n",
        "2. Will the amount of calories and total fat be represented by a linear or non-linear trendline? Justify your reasoning.\n"
      ],
      "metadata": {
        "id": "amnP0N4aHvjJ"
      }
    },
    {
      "cell_type": "markdown",
      "source": [
        "Double click **here** to enter your responses."
      ],
      "metadata": {
        "id": "VTHpLueYJORQ"
      }
    },
    {
      "cell_type": "markdown",
      "source": [
        "## Generating a Scatter Plot\n",
        "\n",
        "Run the code below to generate the scatter plot."
      ],
      "metadata": {
        "id": "0TcdmDBeKOTc"
      }
    },
    {
      "cell_type": "code",
      "source": [
        "scatterplot = data.plot.scatter(x='Total Fat', y='Calories')\n",
        "#can change \"Total Fat\" or \"Calories\" to be other columns in the spreadsheet\n",
        "x = np.array(data['Total Fat'].tolist())\n",
        "y = np.array(data['Calories'].tolist())\n",
        "\n",
        "#calculate the trendline\n",
        "z = np.polyfit(x, y, 1) \n",
        "p = np.poly1d(z)\n",
        "\n",
        "scatterplot.plot(x,p(x),\"r--\") #plot the trendline\n",
        "\n",
        "trendline = f\"y={z[0]:0.3f}x{z[1]:+0.3f}\" #prints the trendline as y=ax+b\n",
        "print(\"The trendline for this scatter plot is\",trendline)"
      ],
      "metadata": {
        "colab": {
          "base_uri": "https://localhost:8080/",
          "height": 300
        },
        "id": "hjSFYg39KSzg",
        "outputId": "3ec1f927-60d7-4058-a81e-fb26136d2d30"
      },
      "execution_count": 23,
      "outputs": [
        {
          "output_type": "stream",
          "name": "stdout",
          "text": [
            "The trendline for this scatter plot is y=15.498x+97.527\n"
          ]
        },
        {
          "output_type": "display_data",
          "data": {
            "text/plain": [
              "<Figure size 432x288 with 1 Axes>"
            ],
            "image/png": "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\n"
          },
          "metadata": {
            "needs_background": "light"
          }
        }
      ]
    },
    {
      "cell_type": "markdown",
      "source": [
        "## Consolidation Questions\n",
        "\n",
        "1. Are there outliers in the data? How could they be explained?\n",
        "2. Write a statement that describes the trend. Be sure to use proper terminology.\n",
        "3. Use the scatter plot to interpolate the total fat if there are 200 calories in a food.\n",
        "4. Use the scatter plot to extrapolate the number of calories if the total fat in the item is 70.\n",
        "5. Use the trendline equation to verify your interpolation and extrapolation calculations. \n",
        "6. Are these interpolations and extrapolations accurate? Why or why not? What factors could influence the accuracy of these predictions?\n",
        "7. Were your original hypotheses about the trendline and type of correlation correct? Explain how you know."
      ],
      "metadata": {
        "id": "6j4shozPMAKP"
      }
    },
    {
      "cell_type": "markdown",
      "source": [
        "Double click **here** to enter your responses."
      ],
      "metadata": {
        "id": "4rlXw-f-OOg-"
      }
    },
    {
      "cell_type": "markdown",
      "source": [
        "\n",
        "\n",
        "---\n",
        "\n",
        "\n",
        "# Final Food for Thought....\n",
        "\n",
        "Respond to the following questions below:\n",
        "\n",
        "1. Try to find foods that have similar serving sizes, but different calories. What factors could influence the amount of calories an item has? \n",
        "2. Do you think there would be a difference in the data analysis of other fast food restaurants? Why or why not?\n",
        "3. Do you think other correlations could exist between other variables? Try changing the code in \"Generating a Scatter Plot\" to other columns of data."
      ],
      "metadata": {
        "id": "-ZdXMTY26l-W"
      }
    },
    {
      "cell_type": "markdown",
      "source": [
        "Double click **here** to enter your responses."
      ],
      "metadata": {
        "id": "aIfH8IEXONYF"
      }
    }
  ]
}
