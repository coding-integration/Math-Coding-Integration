{
  "nbformat": 4,
  "nbformat_minor": 0,
  "metadata": {
    "colab": {
      "provenance": [],
      "authorship_tag": "ABX9TyN9OeHTWZPIsZ5oD0K2D300",
      "include_colab_link": true
    },
    "kernelspec": {
      "name": "python3",
      "display_name": "Python 3"
    },
    "language_info": {
      "name": "python"
    }
  },
  "cells": [
    {
      "cell_type": "markdown",
      "metadata": {
        "id": "view-in-github",
        "colab_type": "text"
      },
      "source": [
        "<a href=\"https://colab.research.google.com/github/coding-integration/Math-Coding-Integration/blob/main/3.%20Introduction%20to%20Data%20Analysis%20in%20Python.ipynb\" target=\"_parent\"><img src=\"https://colab.research.google.com/assets/colab-badge.svg\" alt=\"Open In Colab\"/></a>",
              "\n\n",
        "<a href=\"https://hub.callysto.ca/jupyter/hub/user-redirect/git-pull?repo=https%3A%2F%2Fgithub.com%2Fcoding-integration%2FMath-Coding-Integration&branch=main&subPath=3.%20Introduction%20to%20Data%20Analysis%20in%20Python.ipynb&depth=1\"  target=\"_parent\"><img src=\"https://raw.githubusercontent.com/callysto/curriculum-notebooks/master/open-in-callysto-button.svg?sanitize=true\" width=\"123\" height=\"24\" alt=\"Open in Callysto\"></a>"
      ]
    },
    {
      "cell_type": "markdown",
      "source": [
        "# Introduction to Data Analysis in Python <img src=\"https://i.imgur.com/qUSxW7s.png\" height=45 width=45 align=right>\n",
        "\n",
        "## Learning Goals\n",
        "- Use Python to investigate a dataset and conduct statistical analysis on one and two-variable data\n",
        "- Understand how Python may be used to perform data analysis\n",
        "\n",
        "## Success Criteria\n",
        "- I can use Python code to generate boxplots and scatter plots\n",
        "- I can use Python code to calculate the minimum, maximum, mean, median, and quartiles of a dataset \n",
        "- I can analyze the output of code to assess its statistical and mathematical meaning\n",
        "- I can modify the code to perform statistical analysis\n",
        "\n",
        "\n",
        "\n",
        "---"
      ],
      "metadata": {
        "id": "c-TZV7fp1KwL"
      }
    },
    {
      "cell_type": "markdown",
      "source": [
        "# Spreadsheets <img src=\"https://1000logos.net/wp-content/uploads/2017/03/McDonalds-logo.png\" height=115 width=200 align=right>\n",
        "\n",
        "For this activity, we will be working with some nutritional facts data for McDonald's breakfast foods. The data that we need is stored in a **spreadsheet**. A spreadsheet is a table with rows and columns that our data is organized into. \n",
        "\n",
        "<img src=\"https://i.imgur.com/NVwvbxS.png\" width=800>\n",
        "\n",
        "Our dataset consists of the breakfast food items served at McDonald's. The first column contains the names of the items. The other columns consist of some nutritional facts for each item - Serving Size, Calories, Total Fat, and Protein.\n",
        "\n",
        "To see the dataset in its entirety, <a href=\"https://docs.google.com/spreadsheets/d/1Zj8Nl-zw4bKIA2Sd7hzEbCAH5NlAp0am4dbmsAFefSY/edit?usp=sharing\">view the spreadsheet</a>",
        "\n",
        "Using Python, we will be able to process and analyze this data through graphs and calculating some basic statistics.\n",
        "\n",
        "\n",
        "\n",
        "---\n",
        "\n"
      ],
      "metadata": {
        "id": "v-lVXq_c0YV0"
      }
    },
    {
      "cell_type": "markdown",
      "source": [
        "## Mean and Median\n",
        "\n",
        "The mean of a set of numbers is the \"average\" - **what is the process for calcuating the mean?**\n",
        "\n",
        "The median of a set of numbers is the \"middle\" value - **what is the process for calculating the median?**"
      ],
      "metadata": {
        "id": "DTXWan4_yWH0"
      }
    },
    {
      "cell_type": "markdown",
      "source": [
        "Double click **here** to enter your responses.\n"
      ],
      "metadata": {
        "id": "WDfEvGMS2Kz0"
      }
    },
    {
      "cell_type": "markdown",
      "source": [
        "Run the code block below. ```import pandas as pd ``` and ``` import numpy as np``` are Python commands that will import some code to help us perform some **data analysis** on our dataset. Data analysis can include finding basic statistics of data such as the mean and median, as well as creating graphs and charts to represent our data."
      ],
      "metadata": {
        "id": "NsyP-IjQ2JR1"
      }
    },
    {
      "cell_type": "code",
      "execution_count": 2,
      "metadata": {
        "id": "gJ-OJ6yp08wF"
      },
      "outputs": [],
      "source": [
        "import pandas as pd\n",
        "import numpy as np"
      ]
    },
    {
      "cell_type": "markdown",
      "source": [
        "We will find the mean and median number of calories among McDonald's breakfast foods. Run the code below to find these values:"
      ],
      "metadata": {
        "id": "eHf8TcqD5SB_"
      }
    },
    {
      "cell_type": "code",
      "source": [
        "data = pd.read_csv(\"https://raw.githubusercontent.com/coding-integration/Math-Coding-Integration/main/mcdonalds_breakfast_items.csv\").dropna() # make Python open our dataset\n",
        "mean = data[\"Calories\"].mean() #calculate the mean of the \"Calories\" column\n",
        "median = data[\"Calories\"].median() #calculate the median of the \"Calories\" column\n",
        "\n",
        "print(\"The mean number of calories is\", mean)\n",
        "print(\"The median number of calories is\", median)"
      ],
      "metadata": {
        "id": "yIlgvvbY5g9w"
      },
      "execution_count": null,
      "outputs": []
    },
    {
      "cell_type": "markdown",
      "source": [
        "---\n",
        "<img src=\"https://www.eatthis.com/wp-content/uploads/sites/4/2019/08/best-worst-mcdonalds.jpg?quality=82&strip=1\" height=200 width=250 align=right>\n",
        "\n",
        "# Boxplots\n",
        "\n",
        "One of the ways that we can visualize the distribution of data is with a boxplot (also known as a box-and-whisker plot). The box plot will show the minimum and maximum values as well as the quartiles of the data. But first, we will calculate these values using Python.\n",
        "\n",
        "Run the code below to find the minimum and maximum (lowest and highest) amount of calories among all McDonald's breakfast food items.\n",
        "\n"
      ],
      "metadata": {
        "id": "9wIUHwLT7259"
      }
    },
    {
      "cell_type": "code",
      "source": [
        "minimum = data[\"Calories\"].min()\n",
        "\n",
        "# use the minimum value to find out what item has the fewest calories\n",
        "minItem = data.loc[data[\"Calories\"] == minimum][\"Item\"].values[0]\n",
        "\n",
        "maximum = data[\"Calories\"].max()\n",
        "\n",
        "# use the maximum value to find out what item has the most calories\n",
        "maxItem = data.loc[data[\"Calories\"] == maximum][\"Item\"].values[0]\n",
        "\n",
        "print(\"The item with the fewest calories is\",minItem,\"at\",minimum,\"calories\")\n",
        "print(\"The item with the highest calories is\",maxItem,\"at\",maximum,\"calories\")"
      ],
      "metadata": {
        "colab": {
          "base_uri": "https://localhost:8080/"
        },
        "id": "fSHTPxUM86yB",
        "outputId": "7e6b1f68-4445-4c07-d21e-b7000afcfa5b"
      },
      "execution_count": null,
      "outputs": [
        {
          "output_type": "stream",
          "name": "stdout",
          "text": [
            "The item with the fewest calories is Hash Brown at 150.0 calories\n",
            "The item with the highest calories is Big Breakfast with Hotcakes (Large Biscuit) a 1150.0 calories\n"
          ]
        }
      ]
    },
    {
      "cell_type": "markdown",
      "source": [
        "## Quartiles\n",
        "\n",
        "Recall: **Quartiles** divide the data into 4 parts, each containing 25% of the data. To divide the data, we must arrange the data in order and calculate 3 values (Q1, Q2, and Q3). Calculating these values will tell us more about the data.\n",
        "\n",
        "Run the code below to calculate the quartiles Q1, Q2, and Q3."
      ],
      "metadata": {
        "id": "j3C-N7VABJWe"
      }
    },
    {
      "cell_type": "code",
      "source": [
        "Q1 = data[\"Calories\"].quantile(0.25)\n",
        "Q2 = data[\"Calories\"].quantile(0.5)\n",
        "Q3 = data[\"Calories\"].quantile(0.75)\n",
        "\n",
        "print(\"Q1:\",Q1)\n",
        "print(\"Q2:\",Q2)\n",
        "print(\"Q3:\",Q3)"
      ],
      "metadata": {
        "id": "LbtKxv0pBGmE"
      },
      "execution_count": null,
      "outputs": []
    },
    {
      "cell_type": "markdown",
      "source": [
        "### Respond to these questions:\n",
        "1. What do the Q1 and Q3 values tell us? \n",
        "2. What is another name for Q2?\n",
        "\n"
      ],
      "metadata": {
        "id": "_cqFaLDaDZT9"
      }
    },
    {
      "cell_type": "markdown",
      "source": [
        "Double click **here** to enter your responses.\n"
      ],
      "metadata": {
        "id": "TWdEUumbDqiR"
      }
    },
    {
      "cell_type": "markdown",
      "source": [
        "## Generating a Boxplot\n",
        "\n",
        "Now that we have calculated the values we need to create a boxplot, using Python we will generate a boxplot graph. Run the code block below to generate the boxplot."
      ],
      "metadata": {
        "id": "wHp9fEVID_TS"
      }
    },
    {
      "cell_type": "code",
      "source": [
        "boxplot = data.boxplot(column=[\"Calories\"], whis=[0,100])"
      ],
      "metadata": {
        "id": "lTwK0CN3EW5n"
      },
      "execution_count": null,
      "outputs": []
    },
    {
      "cell_type": "markdown",
      "source": [
        "#### What can this boxplot tell us about the distribution of calories?\n"
      ],
      "metadata": {
        "id": "fFcB5t12HhnU"
      }
    },
    {
      "cell_type": "markdown",
      "source": [
        "Double click **here** to enter your responses."
      ],
      "metadata": {
        "id": "K9mzNqhAHsP1"
      }
    },
    {
      "cell_type": "markdown",
      "source": [
        "\n",
        "\n",
        "---\n",
        "\n",
        "\n",
        "# Analyzing Correlation Between Two Variables\n",
        "\n",
        "We will create a scatter plot using two variables in our dataset: **calories** and **total fat**.\n",
        "\n",
        "## Hypothesis\n",
        "\n",
        "1. What type of correlation will exist between the amount of calories and total fat? Justify your reasoning.\n",
        "2. Will the amount of calories and total fat be represented by a linear or non-linear trendline? Justify your reasoning.\n"
      ],
      "metadata": {
        "id": "amnP0N4aHvjJ"
      }
    },
    {
      "cell_type": "markdown",
      "source": [
        "Double click **here** to enter your responses."
      ],
      "metadata": {
        "id": "VTHpLueYJORQ"
      }
    },
    {
      "cell_type": "markdown",
      "source": [
        "## Generating a Scatter Plot\n",
        "\n",
        "Run the code below to generate the scatter plot."
      ],
      "metadata": {
        "id": "0TcdmDBeKOTc"
      }
    },
    {
      "cell_type": "code",
      "source": [
        "scatterplot = data.plot.scatter(x='Total Fat', y='Calories')\n",
        "#can change \"Total Fat\" or \"Calories\" to be other columns in the spreadsheet\n",
        "x = np.array(data['Total Fat'].tolist())\n",
        "y = np.array(data['Calories'].tolist())\n",
        "\n",
        "#calculate the trendline\n",
        "z = np.polyfit(x, y, 1) \n",
        "p = np.poly1d(z)\n",
        "\n",
        "scatterplot.plot(x,p(x),\"r--\") #plot the trendline\n",
        "\n",
        "trendline = f\"y={z[0]:0.3f}x{z[1]:+0.3f}\" #prints the trendline as y=ax+b\n",
        "print(\"The trendline for this scatter plot is\",trendline)"
      ],
      "metadata": {
        "id": "hjSFYg39KSzg"
      },
      "execution_count": null,
      "outputs": []
    },
    {
      "cell_type": "markdown",
      "source": [
        "## Consolidation Questions\n",
        "\n",
        "1. Are there outliers in the data? How could they be explained?\n",
        "2. Write a statement that describes the trend. Be sure to use proper terminology.\n",
        "3. Use the scatter plot to interpolate the total fat if there are 200 calories in a food.\n",
        "4. Use the scatter plot to extrapolate the number of calories if the total fat in the item is 70.\n",
        "5. Use the trendline equation to verify your interpolation and extrapolation calculations. \n",
        "6. Are these interpolations and extrapolations accurate? Why or why not? What factors could influence the accuracy of these predictions?\n",
        "7. Were your original hypotheses about the trendline and type of correlation correct? Explain how you know."
      ],
      "metadata": {
        "id": "6j4shozPMAKP"
      }
    },
    {
      "cell_type": "markdown",
      "source": [
        "Double click **here** to enter your responses."
      ],
      "metadata": {
        "id": "4rlXw-f-OOg-"
      }
    },
    {
      "cell_type": "markdown",
      "source": [
        "\n",
        "\n",
        "---\n",
        "\n",
        "\n",
        "# Final Food for Thought....\n",
        "\n",
        "Respond to the following questions below:\n",
        "\n",
        "1. Try to find foods that have similar serving sizes, but different calories. What factors could influence the amount of calories an item has? \n",
        "2. Do you think there would be a difference in the data analysis of other fast food restaurants? Why or why not?\n",
        "3. Do you think other correlations could exist between other variables? Try changing the code in \"Generating a Scatter Plot\" to other columns of data."
      ],
      "metadata": {
        "id": "-ZdXMTY26l-W"
      }
    },
    {
      "cell_type": "markdown",
      "source": [
        "Double click **here** to enter your responses."
      ],
      "metadata": {
        "id": "aIfH8IEXONYF"
      }
    }
  ]
}
