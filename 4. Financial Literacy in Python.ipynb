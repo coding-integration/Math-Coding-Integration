{
  "nbformat": 4,
  "nbformat_minor": 0,
  "metadata": {
    "colab": {
      "provenance": [],
      "authorship_tag": "ABX9TyMmZM2YkDxlBrxjgh/slEgm",
      "include_colab_link": true
    },
    "kernelspec": {
      "name": "python3",
      "display_name": "Python 3"
    },
    "language_info": {
      "name": "python"
    }
  },
  "cells": [
    {
      "cell_type": "markdown",
      "metadata": {
        "id": "view-in-github",
        "colab_type": "text"
      },
      "source": [
        "<a href=\"https://colab.research.google.com/github/coding-integration/Math-Coding-Integration/blob/main/4.%20Financial%20Literacy%20in%20Python.ipynb\" target=\"_parent\"><img src=\"https://colab.research.google.com/assets/colab-badge.svg\" alt=\"Open In Colab\"/></a>"
      ]
    },
    {
      "cell_type": "markdown",
      "source": [
        "# Budgeting and Financial Literacy <img src=\"https://i.imgur.com/qUSxW7s.png\" height=45 width=45 align=right>\n",
        "\n",
        "## Learning Goals\n",
        "- Research and apply information about cost of living in Canada \n",
        "- Balance and make changes to budgets\n",
        "- Understand how changes to interest rates and investment periods influences financial decisions\n",
        "\n",
        "## Success Criteria\n",
        "- I can use data from research to make financial choices\n",
        "- I can assess various investments to determine the best savings outcome\n",
        "- I can describe how changing income and/or expenses impacts my savings\n",
        "- I can interpret the output of code to determine budget information and investments \n",
        "\n",
        "---"
      ],
      "metadata": {
        "id": "c-TZV7fp1KwL"
      }
    },
    {
      "cell_type": "markdown",
      "source": [
        "# Part 1: Income and Expenses \n",
        "\n",
        "For this activity, you will be conducting some research about the cost of living in various parts of Canada. Ultimately, you will be building a simple budget that will determine how much you can save (or owe) at the end of the year.\n",
        "\n",
        "\n",
        "\n",
        "---\n",
        "\n",
        "\n",
        "## Step 1: Where to Live? <img src=\"https://images.unsplash.com/photo-1566475922470-2740a2d7e17b?ixlib=rb-4.0.3&ixid=MnwxMjA3fDB8MHxwaG90by1wYWdlfHx8fGVufDB8fHx8&auto=format&fit=crop&w=870&q=80\" align=right height=250 width=300>\n",
        "\n",
        "Examine the <a href=\"https://rentals.ca/national-rent-report\">Rentals.ca Rent Report</a>, which shows the average rental prices for 1 and 2 bedroom apartments across Canada.\n",
        "\n",
        "From the list of cities, choose which one you would most like to live in. You should be sure to factor in the location, price, and may want to consider other factors such as proximity to family or previous familiarity with the location.\n",
        "\n",
        "### Run the code block below to factor the rent cost into your budget:"
      ],
      "metadata": {
        "id": "XwX2WbTSj_Q6"
      }
    },
    {
      "cell_type": "code",
      "source": [
        "print(\"Press enter to submit each response. Do not enter commas!\\n\\n\")\n",
        "location = input(\"What city and province did you choose to live in? \")\n",
        "rent = float(input(\"What is the cost of a 1 bedroom apartment per month in the city you chose? $\"))"
      ],
      "metadata": {
        "id": "QXgkUREJnOsp"
      },
      "execution_count": null,
      "outputs": []
    },
    {
      "cell_type": "markdown",
      "source": [
        "\n",
        "\n",
        "---\n",
        "\n",
        "\n",
        "\n",
        "\n",
        "\n",
        "## Step 2: Income - Choose a Job! <img src=\"https://images.unsplash.com/photo-1628348068343-c6a848d2b6dd?ixlib=rb-4.0.3&ixid=MnwxMjA3fDB8MHxwaG90by1wYWdlfHx8fGVufDB8fHx8&auto=format&fit=crop&w=870&q=80\" align=\"right\" width=250 height=250>\n",
        "\n",
        "To pay for rent, you will need to find a job! Use the <a href=\"https://www.livingin-canada.com/work-salaries-wages-canada.html\">Living in Canada</a> website to choose a job. Scroll downa and **use the section \"Average Salary in Canada by Career and Location\"** to make your selection. Make sure the salary you report matches **at least** the province that you chose to live in. If the website lists the exact city, use that!\n",
        "\n",
        "Next, you will find your **net salary** by using the <a href=\"https://ca.talent.com/tax-calculator\">tax calculator</a>. Enter the yearly (gross) salary, and select the **same province** as where you chose to live.\n",
        "\n",
        "### Run the code block below to factor this income into your budget:"
      ],
      "metadata": {
        "id": "s3RA8MfvnnsZ"
      }
    },
    {
      "cell_type": "code",
      "source": [
        "print(\"Press enter to submit each response. Do not enter commas! \\n\\n\")\n",
        "job = input(\"What job did you choose? \")\n",
        "grossSalary = float(input(\"What is this job's yearly (gross) salary? $\"))\n",
        "netSalary = float(input(\"What is the net pay (salary) from the tax calculator? $\"))\n",
        "monthlySalary = netSalary / 12.0\n",
        "print(f\"\\n\\nYour monthly salary is ${monthlySalary:,.2f}\")"
      ],
      "metadata": {
        "id": "PC9VzTIXp621"
      },
      "execution_count": null,
      "outputs": []
    },
    {
      "cell_type": "markdown",
      "source": [
        "\n",
        "\n",
        "---\n",
        "\n",
        "\n",
        "\n",
        "## Step 3: Expenses  <img src=\"https://openclipart.org/image/800px/31207\" align=\"right\" height=100 width=75>\n",
        "\n",
        "According to <a href=\"https://cdn.dal.ca/content/dam/dalhousie/pdf/sites/agri-food/Canada%27s%20Food%20Price%20Report%202023_Digital.pdf\">Canada's Food Price Report for 2023</a>, **a person aged 19 - 30 spends on average $316 for food each month**. You must factor this expense into your calculations.\n",
        "\n",
        "You should also budget for the following items, the cost is given per month:\n",
        "\n",
        "\n",
        "*   Internet: $80\n",
        "\n",
        "*   Miscellaneous Items (e.g. clothes, gifts, leisure and entertainment): $200\n",
        "\n",
        "### Run the code block below to factor these expenses into your budget:"
      ],
      "metadata": {
        "id": "yXU8OYHVqPD3"
      }
    },
    {
      "cell_type": "code",
      "source": [
        "foodCost = 316.0     # modify this value to change the cost of food\n",
        "yearlyFoodCost = foodCost * 12\n",
        "\n",
        "internetCost = 80.0     # modify this value to change the cost of internet\n",
        "yearlyInternetCost = internetCost * 12\n",
        "\n",
        "miscellaneousCost = 200.0   # modify this value to change miscellaneous costs\n",
        "yearlyMiscCost = miscellaneousCost * 12"
      ],
      "metadata": {
        "id": "GHhCe8z7s-UQ"
      },
      "execution_count": null,
      "outputs": []
    },
    {
      "cell_type": "markdown",
      "source": [
        "\n",
        "\n",
        "---\n",
        "\n",
        "## Step 4: End of Month Total\n",
        "\n",
        "Now that you have factored in all of your monthly income and expenses, we will calculate how much money is left over at the end of each month.\n",
        "\n",
        "### Run the code block below to start the simulation:"
      ],
      "metadata": {
        "id": "MveVLEBNu6t4"
      }
    },
    {
      "cell_type": "code",
      "source": [
        "remaining = monthlySalary - rent - foodCost - internetCost - miscellaneousCost\n",
        "\n",
        "yearlyTotal = remaining * 12\n",
        "\n",
        "if remaining < 0:\n",
        "  print(f\"The total amount at the end of each month is -${abs(remaining):,.2f}\")\n",
        "  print(f\"The total amount at the end of each year is -${abs(yearlyTotal):,.2f}\")\n",
        "else:\n",
        "  print(f\"The total amount at the end of each month is ${remaining:,.2f}\")\n",
        "  print(f\"The total amount at the end of each year is ${yearlyTotal:,.2f}\")"
      ],
      "metadata": {
        "id": "1DFKU6VdzhSs"
      },
      "execution_count": null,
      "outputs": []
    },
    {
      "cell_type": "markdown",
      "source": [
        "### Is the answer above positive or negative? \n",
        "\n",
        "A **positive** amount means you will have savings at the end of each month. If your remaining amount is positive, continue to Part 2: Investing Your Savings. \n",
        "\n",
        "\n",
        "A **negative** amount means you will **not** have any savings at the end of each month. In fact, you will not have enough money to cover all of your expenses.\n",
        "\n",
        "If your amount is negative, adjust some of the previous values, such as the rent, salary, or other expenses. Consider how changing these values will increase your savings each month."
      ],
      "metadata": {
        "id": "-6enmyeU0XPN"
      }
    },
    {
      "cell_type": "markdown",
      "source": [
        "\n",
        "\n",
        "---\n",
        "\n",
        "# Part 2: Investing Your Savings\n",
        "\n",
        "In order to prepare for post-secondary, you decide to take your total savings at the end of the year and deposit it into a GIC. Consider the three options you have:\n",
        "\n",
        "| Option 1            | Option 2               | Option 3           |\n",
        "| ------------------- | ---------------------- | ------------------ |\n",
        "| Interest: 3.0%      | Interest: 5.0%         | Interest: 4.0%     |\n",
        "| Term: 3 years       | Term: 1 year           | Term: 2 years      |\n",
        "\n",
        "Using the info in the chart above, which option would you choose?\n",
        "\n",
        "<img src=\"https://openclipart.org/image/800px/312024\" align=right height=250 width=250>\n",
        "\n",
        "**Recall:** The simple interest formula:\n",
        "\n",
        "# $\\ {A = P(1 + rt)}$\n",
        "where:\n",
        "\n",
        "A\t=\tfinal amount\n",
        "\n",
        "P\t=\tinitial principal balance\n",
        "\n",
        "r\t=\tannual interest rate\n",
        "\n",
        "t\t=\ttime (in years)\n",
        "\n",
        "### Run the code block below to simulate the calculation for each option:"
      ],
      "metadata": {
        "id": "71Yaptn32U0I"
      }
    },
    {
      "cell_type": "code",
      "source": [
        "for i in range(1,4):\n",
        "  print(f\"Running the calculation for Option {i}...\")\n",
        "\n",
        "  principal = yearlyTotal # total savings at the end of the year to invest\n",
        "  rate = float(input(\"Enter the interest rate in decimal form: \"))\n",
        "  time = int(input(\"Enter the term in years: \"))\n",
        "  amount = principal*(1 + rate*time) #simple compound interest formula\n",
        "\n",
        "  print(f\"The final amount at the end of the term will be ${amount:,.2f} \\n\\n\")"
      ],
      "metadata": {
        "id": "_8u8sEZa4V8M"
      },
      "execution_count": null,
      "outputs": []
    },
    {
      "cell_type": "markdown",
      "source": [
        "### Based on the calculations above, which option would you choose?"
      ],
      "metadata": {
        "id": "JXtQ8mlEAiKV"
      }
    },
    {
      "cell_type": "markdown",
      "source": [
        "\n",
        "Double click **here** to enter your response."
      ],
      "metadata": {
        "id": "QwDU1G3-Auwq"
      }
    },
    {
      "cell_type": "markdown",
      "source": [
        "\n",
        "\n",
        "---\n",
        "\n",
        "\n",
        "## Part 3: Consolidation\n",
        "\n",
        "Respond to the following questions below:\n",
        "\n",
        "\n",
        "\n",
        "1.   What steps can you take to increase your savings at the end of each month? Explain your thinking.\n",
        "2.   What is the effect of changing the term on an investment? Changing the interest rate?\n",
        "3.   If your initial amount of savings was negative, explain what factors you had to change to reach a positive amount. If your initial amount of savings was positive, discuss the decisions you made to reach that result. Your response should include details about where you chose to live, what job you selected, etc.\n",
        "4.  Was there anything surprising or that stood out to you about the costs of living? Were your savings as high as you anticipated? Why or why not?\n",
        "5.   Based on the job you selected, what additional education or training would you need to obtain? Briefly outline the steps required if you wanted to obtain this job in real life.\n",
        "\n"
      ],
      "metadata": {
        "id": "LpPYkIdzBF2K"
      }
    },
    {
      "cell_type": "markdown",
      "source": [
        "Double click **here** to enter your responses."
      ],
      "metadata": {
        "id": "lkVju617Bxm7"
      }
    }
  ]
}