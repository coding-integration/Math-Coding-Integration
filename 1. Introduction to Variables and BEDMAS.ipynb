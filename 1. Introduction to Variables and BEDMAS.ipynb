{
  "nbformat": 4,
  "nbformat_minor": 0,
  "metadata": {
    "colab": {
      "provenance": [],
      "authorship_tag": "ABX9TyNsmzrDOiPW7VQIeqNsVaXb",
      "include_colab_link": true
    },
    "kernelspec": {
      "name": "python3",
      "display_name": "Python 3"
    },
    "language_info": {
      "name": "python"
    }
  },
  "cells": [
    {
      "cell_type": "markdown",
      "metadata": {
        "id": "view-in-github",
        "colab_type": "text"
      },
      "source": [
        "<a href=\"https://colab.research.google.com/github/coding-integration/1-Math-Coding-Integration/blob/main/1.%20Introduction%20to%20Variables%20and%20BEDMAS.ipynb\" target=\"_parent\"><img src=\"https://colab.research.google.com/assets/colab-badge.svg\" alt=\"Open In Colab\"/></a>"
      ]
    },
    {
      "cell_type": "markdown",
      "source": [
        "# Introduction to Variables and BEDMAS in Python<img src=\"https://i.imgur.com/qUSxW7s.png\" height=45 width=45 align=right>\n",
        "\n",
        "## Learning Goals\n",
        "*   Use Python to define and use variables in simple mathematical expressions.\n",
        "*   Understand how Python may be used to simplify and evaluate more complex mathematical expressions. \n",
        "\n",
        "## Success Criteria\n",
        "<p>I know I am successful when:</p>\n",
        "<ul>\n",
        "<li>I can define and use Python variables in simple mathematical expressions</li>\n",
        "<li>I can test and evaluate mathematical expressions using Python</li>\n",
        "</ul>\n",
        "\n",
        "---\n",
        "# Activity 1: BEDMAS in Python <img src=\"https://i.imgur.com/qUSxW7s.png\" height=45 width=45 align=right>\n",
        "---\n",
        "\n",
        "## Big Question: Does Python Understand BEDMAS?\n",
        "\n",
        "Think about the following expression: \n",
        "\n",
        "$\\ {10 × (-1) + 4}$\n",
        "\n",
        "On a separate sheet of paper, use any strategy to **evaluate** this expression.\n",
        "\n",
        "Once you’ve found the correct answer, try running the following code block:"
      ],
      "metadata": {
        "id": "ECS8voLWM3Z0"
      }
    },
    {
      "cell_type": "code",
      "source": [
        "10 * (-1) + 4"
      ],
      "metadata": {
        "id": "yTHe-eqBM7K9"
      },
      "execution_count": null,
      "outputs": []
    },
    {
      "cell_type": "markdown",
      "source": [
        "**IMPORTANT NOTE:** In Python, we use an asterisk * in place of multiplication symbol ×\n",
        "\n",
        "Did Python give you the same answer that you calculated? If not, double check your work!\n",
        "\n",
        "Try evaluating this expression on your own:\n",
        "\n",
        "$\\ {5^2 + (-2) × 3}$\n",
        "\n",
        "Once you have verified the final answer, run the code block below. Verify that Python gives you the same answer you calculated:"
      ],
      "metadata": {
        "id": "jm7iiEolM9nt"
      }
    },
    {
      "cell_type": "code",
      "source": [
        "5**2 + (-2) * 3"
      ],
      "metadata": {
        "id": "kXBDS2HaNBSy"
      },
      "execution_count": null,
      "outputs": []
    },
    {
      "cell_type": "markdown",
      "source": [
        "**IMPORTANT NOTE:** In Python, we use a double asterisk ** to represent an exponent!\n",
        "\n",
        "# Based on the results above, does Python understand BEDMAS?\n",
        "\n",
        "\n",
        "**Python has some limitations.** For example, in math we can usually write 2(3) to represent 2 × 3. Try typing ``` 2(3) ``` in the code block below and running it:"
      ],
      "metadata": {
        "id": "jN1qXJLgNBra"
      }
    },
    {
      "cell_type": "code",
      "source": [
        "2(3) "
      ],
      "metadata": {
        "id": "uDjpRziCNFUg"
      },
      "execution_count": null,
      "outputs": []
    },
    {
      "cell_type": "markdown",
      "source": [
        "You should get an error! **In Python, you must explicitly use the asterisk (*) to multiply numbers.**\n",
        "\n",
        "The following symbols are used to express basic arithmetic operations in Python:\n",
        "\n",
        "\n",
        "|Operator |  Description | Example  | \n",
        "|---------|--------------|----------|\n",
        "|   +     | **Addition**. Adds numbers or variables together. |5 + 2 (= 7) <br>x + y + z|\n",
        "|   -     |**Subtraction**. Subtracts numbers or variables together. |3 - 1 (= 2)<br>a - b |\n",
        "| \\*       | **Multiplication**. Multiplies numbers or variables together. |n\\* m \\* k<br>10 \\* 2 (= 20) |\n",
        "| /       | **Division**. Divides numbers or variables.|c / d <br>9 / 3 (= 3.0) |\n",
        "| \\*\\*     | **Exponent**. Gives the first number raised to the second number. |5 \\*\\* 2 (= 25) <br>x \\*\\* y |\n",
        "\n",
        "\n",
        "Try evaluating the following expressions on your own. Then verify your answers in the code block below by using the appropriate Python operators.\n",
        "\n",
        "### $\\ {-3 + 6 + (-9)}$\n",
        "### $\\ {9 × (3+(-2 × 3))}$\n",
        "### $\\ {-4 + (-9) ÷ (-1)}$\n",
        "\n",
        "## Type the expressions in the code boxes below. Run them one at a time."
      ],
      "metadata": {
        "id": "rmoNNB3xNFom"
      }
    },
    {
      "cell_type": "code",
      "source": [],
      "metadata": {
        "id": "VxGu0G0TNJL4"
      },
      "execution_count": null,
      "outputs": []
    },
    {
      "cell_type": "code",
      "source": [],
      "metadata": {
        "id": "_JhMBohJNJS5"
      },
      "execution_count": null,
      "outputs": []
    },
    {
      "cell_type": "code",
      "source": [],
      "metadata": {
        "id": "nyQFY_n3ExUx"
      },
      "execution_count": null,
      "outputs": []
    },
    {
      "cell_type": "markdown",
      "source": [
        "---\n",
        "\n",
        "# Activity 2: Variables in Python - MTH1W <img src=\"https://i.imgur.com/qUSxW7s.png\" height=45 width=45 align=right>\n",
        "\n",
        "---\n",
        "\n",
        "# Big Question: How Do We Use Variables in Python?\n",
        "\n",
        "Defining a variable in Python is very similar to how you would define a variable in math. \n",
        "\n",
        "Try running the code block below:"
      ],
      "metadata": {
        "id": "A3Vd7eL1HiI7"
      }
    },
    {
      "cell_type": "code",
      "source": [
        "a = 5"
      ],
      "metadata": {
        "id": "m5Eq-odDHi8N"
      },
      "execution_count": null,
      "outputs": []
    },
    {
      "cell_type": "markdown",
      "source": [
        "**Nothing happened!** That’s okay, Python will remember that you have defined a variable called ``` a ``` and set it equal to 5.\n",
        "\n",
        "Let's define another variable, called ``` b ```, and set it equal to 2. Run the code block below:"
      ],
      "metadata": {
        "id": "xfjeqIUjHlMx"
      }
    },
    {
      "cell_type": "code",
      "source": [
        "b = 2"
      ],
      "metadata": {
        "id": "9gY0vYTNHm7a"
      },
      "execution_count": null,
      "outputs": []
    },
    {
      "cell_type": "markdown",
      "source": [
        "**In Python, variable names can be more descriptive than just letters like ```a, b, x ``` or ``` y ```.**\n",
        "<img src=\"https://www.nickzom.org/blog/wp-content/uploads/2018/12/rectangle.png\" height=150 width=300 align=right>\n",
        "\n",
        "Examine the given rectangle with side lengths ``` length = 9 cm ``` and ``` width = 4 cm```.\n",
        " \n",
        "What is the area of the rectangle? Write down the formula and remember to show your calculations.\n",
        "\n",
        "In the code block below, type the following:\n",
        "\n",
        "\n",
        "\n",
        "length = 9\n",
        "\n",
        "Press the Enter key, then type:\n",
        "\n",
        "width = 4\n",
        "\n",
        "#Define the length and width variables in the code block below.\n",
        "Don't forget to run the code!"
      ],
      "metadata": {
        "id": "ll78xgDYHpfk"
      }
    },
    {
      "cell_type": "code",
      "source": [
        "length = 9\n",
        "width = 4"
      ],
      "metadata": {
        "id": "QaHl8izCHrQQ"
      },
      "execution_count": null,
      "outputs": []
    },
    {
      "cell_type": "markdown",
      "source": [
        "We have just defined two variables, ```length``` and ```width```, and set them equal to 9 and 4 respectively. We can use these variables the same way as the previous example and multiply them together. \n",
        "#In the code block below, type the following.\n",
        "\n",
        "\n",
        "length * width\n",
        "\n",
        "\n",
        "Don't forget to run the code!"
      ],
      "metadata": {
        "id": "BemPIK4aHr4d"
      }
    },
    {
      "cell_type": "code",
      "source": [],
      "metadata": {
        "id": "lrKuIUt9Htiq"
      },
      "execution_count": null,
      "outputs": []
    },
    {
      "cell_type": "markdown",
      "source": [
        "**Try the following:** Calculate the area of the following shapes by hand. Then use Python to define variables (name them appropriately) and verify these calculations. Use the empty code blocks below to define your variables and calculate the area of each shape. Don't forget to run the block to check your code!\n",
        "\n",
        "<img src=\"https://i.imgur.com/BDOMdhp.png\" height=300 width=500>\n",
        "\n",
        "\n",
        "## Enter your code below:"
      ],
      "metadata": {
        "id": "03UKKjnLHuFS"
      }
    },
    {
      "cell_type": "code",
      "source": [],
      "metadata": {
        "id": "Xj4dKnzCHv7H"
      },
      "execution_count": null,
      "outputs": []
    },
    {
      "cell_type": "markdown",
      "source": [
        "**Notice how you were able to redefine the variables each time**. For example, even though we had:\n",
        "\n",
        "```\n",
        "length = 9 \n",
        "```\n",
        "\n",
        "and \n",
        "```\n",
        "width = 4 \n",
        "```\n",
        "\n",
        "defined previously, we were able to redefine the length and width variables to calculate the area of a different rectangle. \n",
        "\n",
        "--- \n",
        "# Challenge - More Complex BEDMAS\n",
        "\n",
        "We can use variables to help us evaluate more complex expressions. Using BEDMAS rules, calculate the following on your own. You may use a calculator, but it is very important to use brackets correctly for this question!\n",
        "\n",
        "## $\\frac{3 - (3 × (2+3))}{(-5)+3^2}$\n",
        "(Answer: -3)\n",
        "\n",
        "## Use Python to evaluate this expression: \n",
        "Define two variables called `numerator` and `denominator` in the code block below. Set the `numerator` variable equal to the numerator in this question. Make sure you are using proper Python operators! Make a new line by pressing the Enter key and do the same for the denominator. \n",
        "\n",
        "Make another new line, then type, \n",
        "\n",
        "```\n",
        "numerator / denominator\n",
        "```"
      ],
      "metadata": {
        "id": "2CmULpCtHzAq"
      }
    },
    {
      "cell_type": "code",
      "source": [],
      "metadata": {
        "id": "Vz2nMKADH2HA"
      },
      "execution_count": null,
      "outputs": []
    },
    {
      "cell_type": "markdown",
      "source": [
        "Verify that running the above code block gives you -3.0, the correct answer.\n",
        "\n",
        "\n",
        "---\n",
        "\n",
        "\n",
        "# Consolidation Question: How can Python variables be used to help you evaluate math expressions?\n",
        "Your response should include at least 2 points. Double click on the text below to add your responses:"
      ],
      "metadata": {
        "id": "B3ahB7ogH2O4"
      }
    },
    {
      "cell_type": "markdown",
      "source": [],
      "metadata": {
        "id": "ZWevlbe9H4xV"
      }
    }
  ]
}